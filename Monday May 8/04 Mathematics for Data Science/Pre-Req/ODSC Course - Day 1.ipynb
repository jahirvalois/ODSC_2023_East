{
 "cells": [
  {
   "cell_type": "markdown",
   "id": "31f3c74a",
   "metadata": {},
   "source": [
    "# Mathematics for Data Science\n",
    "Eric Eager\n",
    "VP and Partner, SumerSports\n",
    "\n",
    "In this virtual bootcamp, I will take you through some fundamental areas of data science - both theory and application - using my expertise in American football as a set of examples for you. \n",
    "\n",
    "This bootcamp will focus on three main areas of data science, and their theoretical underpinnings: exploratory data analysis (EDA), regression modelling, principle component analysis (PCA)/clustering."
   ]
  },
  {
   "cell_type": "markdown",
   "id": "b9e38534",
   "metadata": {},
   "source": [
    "Any good data science exercise requires data, and in this bootcamp we will work with three sets of data. One dataset is available publicly through the R package _nflfastR_, which was created by Sebastian Carl and Benjamin Baldwin. Two other datasets are from the website profootballreference.com, which is an excellent resource for anyone interested in football information. I have secured this data for you, and they are available through the csv's _\"nfl_pbp.csv\", \"nfl_draft_data.csv\"_, and _\"nfl_combine_data.csv\"_. Please store these datasets in your working directory so that you can upload them into this notebook for use."
   ]
  },
  {
   "cell_type": "markdown",
   "id": "c3a8fc94",
   "metadata": {},
   "source": [
    "## Exploratory Data Analysis (EDA)"
   ]
  },
  {
   "cell_type": "markdown",
   "id": "f3f954e0",
   "metadata": {},
   "source": [
    "The dataset _\"nfl_pbp.csv\"_ is National Football League's official play-by-play data from the 2022 NFL season. This data has a lot of great information about what happens on a play, from who was on offense and defense, the down and distance, who carried or threw the ball, who caught the ball, among many other things. Let's read in that data, and inspect the structure of the data:"
   ]
  },
  {
   "cell_type": "code",
   "execution_count": 4,
   "id": "abaa6f4e",
   "metadata": {},
   "outputs": [
    {
     "name": "stderr",
     "output_type": "stream",
     "text": [
      "Warning message:\n",
      "\"package 'dplyr' was built under R version 3.6.3\"\n",
      "Attaching package: 'dplyr'\n",
      "\n",
      "The following objects are masked from 'package:stats':\n",
      "\n",
      "    filter, lag\n",
      "\n",
      "The following objects are masked from 'package:base':\n",
      "\n",
      "    intersect, setdiff, setequal, union\n",
      "\n"
     ]
    },
    {
     "name": "stdout",
     "output_type": "stream",
     "text": [
      "'data.frame':\t50147 obs. of  372 variables:\n",
      " $ play_id                             : int  1 43 68 89 115 136 172 202 230 254 ...\n",
      " $ game_id                             : Factor w/ 284 levels \"2022_01_BAL_NYJ\",..: 1 1 1 1 1 1 1 1 1 1 ...\n",
      " $ old_game_id                         : int  2022091107 2022091107 2022091107 2022091107 2022091107 2022091107 2022091107 2022091107 2022091107 2022091107 ...\n",
      " $ home_team                           : Factor w/ 32 levels \"ARI\",\"ATL\",\"BAL\",..: 25 25 25 25 25 25 25 25 25 25 ...\n",
      " $ away_team                           : Factor w/ 32 levels \"ARI\",\"ATL\",\"BAL\",..: 3 3 3 3 3 3 3 3 3 3 ...\n",
      " $ season_type                         : Factor w/ 2 levels \"POST\",\"REG\": 2 2 2 2 2 2 2 2 2 2 ...\n",
      " $ week                                : int  1 1 1 1 1 1 1 1 1 1 ...\n",
      " $ posteam                             : Factor w/ 32 levels \"ARI\",\"ATL\",\"BAL\",..: NA 25 25 25 25 25 25 3 3 3 ...\n",
      " $ posteam_type                        : Factor w/ 2 levels \"away\",\"home\": NA 2 2 2 2 2 2 1 1 1 ...\n",
      " $ defteam                             : Factor w/ 32 levels \"ARI\",\"ATL\",\"BAL\",..: NA 3 3 3 3 3 3 25 25 25 ...\n",
      " $ side_of_field                       : Factor w/ 33 levels \"50\",\"ARI\",\"ATL\",..: NA 4 26 26 26 26 26 4 4 4 ...\n",
      " $ yardline_100                        : int  NA 35 78 59 59 54 64 72 68 64 ...\n",
      " $ game_date                           : Factor w/ 61 levels \"2022-09-08\",\"2022-09-11\",..: 2 2 2 2 2 2 2 2 2 2 ...\n",
      " $ quarter_seconds_remaining           : int  900 900 896 869 865 841 833 822 801 761 ...\n",
      " $ half_seconds_remaining              : int  1800 1800 1796 1769 1765 1741 1733 1722 1701 1661 ...\n",
      " $ game_seconds_remaining              : int  3600 3600 3596 3569 3565 3541 3533 3522 3501 3461 ...\n",
      " $ game_half                           : Factor w/ 3 levels \"Half1\",\"Half2\",..: 1 1 1 1 1 1 1 1 1 1 ...\n",
      " $ quarter_end                         : int  0 0 0 0 0 0 0 0 0 0 ...\n",
      " $ drive                               : int  NA 1 1 1 1 1 1 2 2 2 ...\n",
      " $ sp                                  : int  0 0 0 0 0 0 0 0 0 0 ...\n",
      " $ qtr                                 : int  1 1 1 1 1 1 1 1 1 1 ...\n",
      " $ down                                : int  NA NA 1 1 2 3 4 1 2 3 ...\n",
      " $ goal_to_go                          : int  0 0 0 0 0 0 0 0 0 0 ...\n",
      " $ time                                : Factor w/ 901 levels \"00:00\",\"00:01\",..: 901 901 897 870 866 842 834 823 802 762 ...\n",
      " $ yrdln                               : Factor w/ 1573 levels \"ARI 1\",\"ARI 10\",..: 130 130 1196 1217 1217 1222 1211 122 127 131 ...\n",
      " $ ydstogo                             : int  0 0 10 10 10 5 15 10 6 2 ...\n",
      " $ ydsnet                              : int  NA 14 14 14 14 14 14 21 21 21 ...\n",
      " $ desc                                : Factor w/ 45317 levels \"(:00) 9-C.Boswell 59 yard field goal is GOOD, Center-46-C.Kuntz, Holder-6-P.Harvin.\",..: 43029 42947 19308 18594 18416 17187 17016 16567 15552 13946 ...\n",
      " $ play_type                           : Factor w/ 9 levels \"extra_point\",..: NA 3 9 5 9 5 6 5 5 9 ...\n",
      " $ yards_gained                        : int  NA 0 19 0 5 0 0 4 4 4 ...\n",
      " $ shotgun                             : int  0 0 0 1 1 1 0 0 1 1 ...\n",
      " $ no_huddle                           : int  0 0 0 1 1 1 0 0 1 0 ...\n",
      " $ qb_dropback                         : int  NA 0 0 1 0 1 0 1 1 0 ...\n",
      " $ qb_kneel                            : int  0 0 0 0 0 0 0 0 0 0 ...\n",
      " $ qb_spike                            : int  0 0 0 0 0 0 0 0 0 0 ...\n",
      " $ qb_scramble                         : int  0 0 0 0 0 0 0 0 0 0 ...\n",
      " $ pass_length                         : Factor w/ 2 levels \"deep\",\"short\": NA NA NA 2 NA 2 NA 2 2 NA ...\n",
      " $ pass_location                       : Factor w/ 3 levels \"left\",\"middle\",..: NA NA NA 1 NA 3 NA 3 1 NA ...\n",
      " $ air_yards                           : int  NA NA NA 0 NA 0 NA -4 3 NA ...\n",
      " $ yards_after_catch                   : int  NA NA NA NA NA NA NA 8 1 NA ...\n",
      " $ run_location                        : Factor w/ 3 levels \"left\",\"middle\",..: NA NA 1 NA 1 NA NA NA NA 3 ...\n",
      " $ run_gap                             : Factor w/ 3 levels \"end\",\"guard\",..: NA NA 1 NA 1 NA NA NA NA 3 ...\n",
      " $ field_goal_result                   : Factor w/ 3 levels \"blocked\",\"made\",..: NA NA NA NA NA NA NA NA NA NA ...\n",
      " $ kick_distance                       : int  NA NA NA NA NA NA 45 NA NA NA ...\n",
      " $ extra_point_result                  : Factor w/ 3 levels \"blocked\",\"failed\",..: NA NA NA NA NA NA NA NA NA NA ...\n",
      " $ two_point_conv_result               : Factor w/ 2 levels \"failure\",\"success\": NA NA NA NA NA NA NA NA NA NA ...\n",
      " $ home_timeouts_remaining             : int  3 3 3 3 3 3 3 3 3 3 ...\n",
      " $ away_timeouts_remaining             : int  3 3 3 3 3 3 3 3 3 3 ...\n",
      " $ timeout                             : int  NA 0 0 0 0 0 0 0 0 0 ...\n",
      " $ timeout_team                        : Factor w/ 32 levels \"ARI\",\"ATL\",\"BAL\",..: NA NA NA NA NA NA NA NA NA NA ...\n",
      " $ td_team                             : Factor w/ 32 levels \"ARI\",\"ATL\",\"BAL\",..: NA NA NA NA NA NA NA NA NA NA ...\n",
      " $ td_player_name                      : Factor w/ 416 levels \"A.Abdullah\",\"A.Adams\",..: NA NA NA NA NA NA NA NA NA NA ...\n",
      " $ td_player_id                        : Factor w/ 422 levels \"00-0019596\",\"00-0023459\",..: NA NA NA NA NA NA NA NA NA NA ...\n",
      " $ posteam_timeouts_remaining          : int  NA 3 3 3 3 3 3 3 3 3 ...\n",
      " $ defteam_timeouts_remaining          : int  NA 3 3 3 3 3 3 3 3 3 ...\n",
      " $ total_home_score                    : int  0 0 0 0 0 0 0 0 0 0 ...\n",
      " $ total_away_score                    : int  0 0 0 0 0 0 0 0 0 0 ...\n",
      " $ posteam_score                       : int  NA 0 0 0 0 0 0 0 0 0 ...\n",
      " $ defteam_score                       : int  NA 0 0 0 0 0 0 0 0 0 ...\n",
      " $ score_differential                  : int  NA 0 0 0 0 0 0 0 0 0 ...\n",
      " $ posteam_score_post                  : int  NA 0 0 0 0 0 0 0 0 0 ...\n",
      " $ defteam_score_post                  : int  NA 0 0 0 0 0 0 0 0 0 ...\n",
      " $ score_differential_post             : int  NA 0 0 0 0 0 0 0 0 0 ...\n",
      " $ no_score_prob                       : num  0 0.00466 0.00481 0.00451 0.00474 ...\n",
      " $ opp_fg_prob                         : num  0 0.144 0.161 0.11 0.126 ...\n",
      " $ opp_safety_prob                     : num  0 0.00207 0.00221 0.00161 0.00176 ...\n",
      " $ opp_td_prob                         : num  0 0.226 0.249 0.168 0.194 ...\n",
      " $ fg_prob                             : num  0 0.213 0.201 0.246 0.234 ...\n",
      " $ safety_prob                         : num  0 0.00383 0.00371 0.00492 0.00543 ...\n",
      " $ td_prob                             : num  0 0.407 0.379 0.466 0.434 ...\n",
      " $ extra_point_prob                    : num  0 0 0 0 0 0 0 0 0 0 ...\n",
      " $ two_point_conversion_prob           : num  0 0 0 0 0 0 0 0 0 0 ...\n",
      " $ ep                                  : num  1.47 1.47 1.03 2.5 2.01 ...\n",
      " $ epa                                 : num  0 -0.444 1.469 -0.492 -0.326 ...\n",
      " $ total_home_epa                      : num  0 -0.444 1.025 0.533 0.207 ...\n",
      " $ total_away_epa                      : num  0 0.444 -1.025 -0.533 -0.207 ...\n",
      " $ total_home_rush_epa                 : num  0 0 1.47 1.47 1.14 ...\n",
      " $ total_away_rush_epa                 : num  0 0 -1.47 -1.47 -1.14 ...\n",
      " $ total_home_pass_epa                 : num  0 0 0 -0.492 -0.492 ...\n",
      " $ total_away_pass_epa                 : num  0 0 0 0.492 0.492 ...\n",
      " $ air_epa                             : num  NA NA NA -0.492 NA ...\n",
      " $ yac_epa                             : num  NA NA NA 0 NA ...\n",
      " $ comp_air_epa                        : num  NA 0 0 0 0 ...\n",
      " $ comp_yac_epa                        : num  NA 0 0 0 0 ...\n",
      " $ total_home_comp_air_epa             : num  0 0 0 0 0 ...\n",
      " $ total_away_comp_air_epa             : num  0 0 0 0 0 ...\n",
      " $ total_home_comp_yac_epa             : num  0 0 0 0 0 ...\n",
      " $ total_away_comp_yac_epa             : num  0 0 0 0 0 ...\n",
      " $ total_home_raw_air_epa              : num  0 0 0 -0.492 -0.492 ...\n",
      " $ total_away_raw_air_epa              : num  0 0 0 0.492 0.492 ...\n",
      " $ total_home_raw_yac_epa              : num  0 0 0 0 0 ...\n",
      " $ total_away_raw_yac_epa              : num  0 0 0 0 0 ...\n",
      " $ wp                                  : num  0.546 0.546 0.547 0.573 0.555 ...\n",
      " $ def_wp                              : num  0.454 0.454 0.453 0.427 0.445 ...\n",
      " $ home_wp                             : num  0.546 0.546 0.547 0.573 0.555 ...\n",
      " $ away_wp                             : num  0.454 0.454 0.453 0.427 0.445 ...\n",
      " $ wpa                                 : num  0 0.000707 0.025604 -0.018037 -0.014369 ...\n",
      " $ vegas_wpa                           : num  0 -0.00348 0.01914 -0.01677 -0.00538 ...\n",
      " $ vegas_home_wpa                      : num  0 -0.00348 0.01914 -0.01677 -0.00538 ...\n",
      "  [list output truncated]\n"
     ]
    }
   ],
   "source": [
    "library(dplyr)\n",
    "setwd(\"C:/Users/eric/Dropbox/PC (2)/Documents\")\n",
    "df <- read.csv(\"nfl_pbp.csv\")\n",
    "str(df)"
   ]
  },
  {
   "cell_type": "markdown",
   "id": "1e3bca80",
   "metadata": {},
   "source": [
    "Here I had to call the _dplyr_ package in R, and then I had to make sure my working directory was set properly, and then I read in the file. The command _str_ helps us look at the structure of a dataset. A few interesting things to note.  What I want to look at right now is the interplay between how far a pass is thrown and yards after the catch, to see if there's any relationship.\n",
    "\n",
    "The column name for how far a pass is thrown is _air_yards_ and yards after the catch is _yards_after_catch._ We can make a simple plot of the relationship between the two using ggplot2:"
   ]
  },
  {
   "cell_type": "code",
   "execution_count": 9,
   "id": "b0baa117",
   "metadata": {},
   "outputs": [
    {
     "name": "stderr",
     "output_type": "stream",
     "text": [
      "`geom_smooth()` using method = 'gam' and formula 'y ~ s(x, bs = \"cs\")'\n",
      "Warning message:\n",
      "\"Removed 37947 rows containing non-finite values (stat_smooth).\"Warning message:\n",
      "\"Removed 37947 rows containing missing values (geom_point).\""
     ]
    },
    {
     "data": {
      "image/png": "[encoded data removed]",
      "text/plain": [
       "plot without title"
      ]
     },
     "metadata": {},
     "output_type": "display_data"
    }
   ],
   "source": [
    "library(ggplot2)\n",
    "ggplot(df, aes(air_yards, yards_after_catch)) + geom_point() + geom_smooth()"
   ]
  },
  {
   "cell_type": "markdown",
   "id": "f683d58f",
   "metadata": {},
   "source": [
    "Notice here that we had to call the _ggplot2_ package in R, and then use the standard ggplot commands, including which members of the _aesthetic_ we wanted to make. Here we had pass depth as the _x_ variable and yards after the catch as the _y_ variable. There wasn't much in the way of a relationship between the two variables, as many shorter passes were taken for big gains after the catch, while many long passes had no or little yards after the catch. We can make this plot look at little better using the following code:"
   ]
  },
  {
   "cell_type": "code",
   "execution_count": 3,
   "id": "3b850460",
   "metadata": {},
   "outputs": [
    {
     "name": "stderr",
     "output_type": "stream",
     "text": [
      "`geom_smooth()` using formula 'y ~ x'\n",
      "Warning message:\n",
      "\"Removed 37947 rows containing non-finite values (stat_smooth).\"Warning message:\n",
      "\"Removed 37947 rows containing missing values (geom_point).\""
     ]
    },
    {
     "data": {
      "image/png": "[encoded data removed]",
      "text/plain": [
       "plot without title"
      ]
     },
     "metadata": {},
     "output_type": "display_data"
    }
   ],
   "source": [
    "ggplot(df, aes(air_yards, yards_after_catch)) + geom_jitter() + geom_smooth(method = \"lm\") + theme_minimal() + labs(x = \"Distance Traveled in the Air\", y = \"Yards After the Catch\")"
   ]
  },
  {
   "cell_type": "markdown",
   "id": "e1732789",
   "metadata": {},
   "source": [
    "Here, if we look at the _linear_ relationship between the two variables, however small, we see that it is indeed negative. To get an idea of what the magnitude of that relationship is, we can look at the correlation coefficient between the two, using the following code:"
   ]
  },
  {
   "cell_type": "code",
   "execution_count": 7,
   "id": "0288c65b",
   "metadata": {},
   "outputs": [
    {
     "data": {
      "text/html": [
       "-0.1703301614337"
      ],
      "text/latex": [
       "-0.1703301614337"
      ],
      "text/markdown": [
       "-0.1703301614337"
      ],
      "text/plain": [
       "[1] -0.1703302"
      ]
     },
     "metadata": {},
     "output_type": "display_data"
    }
   ],
   "source": [
    "cor(df$air_yards, df$yards_after_catch, use=\"complete.obs\")"
   ]
  },
  {
   "cell_type": "markdown",
   "id": "8caefa95",
   "metadata": {},
   "source": [
    "This isn't a big number, but it also isn't zero. Notice that we had to use the argument _use = \"complete.obs\"_ here because there are some passes that don't have a depth (like throwaways or spikes) or don't have a yards after catch reading (like incompletions). \n",
    "\n",
    "Let's see if this relationship holds if we aggregate at the player level for the 2022 NFL season. To do this, we use the following code from the _dplyr_ package:"
   ]
  },
  {
   "cell_type": "code",
   "execution_count": 8,
   "id": "b8073eb6",
   "metadata": {},
   "outputs": [
    {
     "name": "stderr",
     "output_type": "stream",
     "text": [
      "`summarise()` has grouped output by 'season', 'passer_id'. You can override using the `.groups` argument.\n"
     ]
    },
    {
     "data": {
      "text/html": [
       "<table>\n",
       "<thead><tr><th scope=col>season</th><th scope=col>passer_id</th><th scope=col>passer</th><th scope=col>n</th><th scope=col>air_yards</th><th scope=col>yards_after_catch</th></tr></thead>\n",
       "<tbody>\n",
       "\t<tr><td>2022      </td><td>00-0019596</td><td>T.Brady   </td><td>873       </td><td>6.663317  </td><td>4.748571  </td></tr>\n",
       "\t<tr><td>2022      </td><td>00-0022824</td><td>A.Lee     </td><td>  1       </td><td>0.000000  </td><td>4.000000  </td></tr>\n",
       "\t<tr><td>2022      </td><td>00-0023459</td><td>A.Rodgers </td><td>621       </td><td>8.038889  </td><td>5.385714  </td></tr>\n",
       "\t<tr><td>2022      </td><td>00-0026143</td><td>M.Ryan    </td><td>534       </td><td>6.006522  </td><td>4.585761  </td></tr>\n",
       "\t<tr><td>2022      </td><td>00-0026158</td><td>J.Flacco  </td><td>212       </td><td>7.947644  </td><td>4.118182  </td></tr>\n",
       "\t<tr><td>2022      </td><td>00-0026197</td><td>C.Henne   </td><td>  9       </td><td>3.111111  </td><td>2.400000  </td></tr>\n",
       "</tbody>\n",
       "</table>\n"
      ],
      "text/latex": [
       "\\begin{tabular}{r|llllll}\n",
       " season & passer\\_id & passer & n & air\\_yards & yards\\_after\\_catch\\\\\n",
       "\\hline\n",
       "\t 2022       & 00-0019596 & T.Brady    & 873        & 6.663317   & 4.748571  \\\\\n",
       "\t 2022       & 00-0022824 & A.Lee      &   1        & 0.000000   & 4.000000  \\\\\n",
       "\t 2022       & 00-0023459 & A.Rodgers  & 621        & 8.038889   & 5.385714  \\\\\n",
       "\t 2022       & 00-0026143 & M.Ryan     & 534        & 6.006522   & 4.585761  \\\\\n",
       "\t 2022       & 00-0026158 & J.Flacco   & 212        & 7.947644   & 4.118182  \\\\\n",
       "\t 2022       & 00-0026197 & C.Henne    &   9        & 3.111111   & 2.400000  \\\\\n",
       "\\end{tabular}\n"
      ],
      "text/markdown": [
       "\n",
       "| season | passer_id | passer | n | air_yards | yards_after_catch |\n",
       "|---|---|---|---|---|---|\n",
       "| 2022       | 00-0019596 | T.Brady    | 873        | 6.663317   | 4.748571   |\n",
       "| 2022       | 00-0022824 | A.Lee      |   1        | 0.000000   | 4.000000   |\n",
       "| 2022       | 00-0023459 | A.Rodgers  | 621        | 8.038889   | 5.385714   |\n",
       "| 2022       | 00-0026143 | M.Ryan     | 534        | 6.006522   | 4.585761   |\n",
       "| 2022       | 00-0026158 | J.Flacco   | 212        | 7.947644   | 4.118182   |\n",
       "| 2022       | 00-0026197 | C.Henne    |   9        | 3.111111   | 2.400000   |\n",
       "\n"
      ],
      "text/plain": [
       "  season passer_id  passer    n   air_yards yards_after_catch\n",
       "1 2022   00-0019596 T.Brady   873 6.663317  4.748571         \n",
       "2 2022   00-0022824 A.Lee       1 0.000000  4.000000         \n",
       "3 2022   00-0023459 A.Rodgers 621 8.038889  5.385714         \n",
       "4 2022   00-0026143 M.Ryan    534 6.006522  4.585761         \n",
       "5 2022   00-0026158 J.Flacco  212 7.947644  4.118182         \n",
       "6 2022   00-0026197 C.Henne     9 3.111111  2.400000         "
      ]
     },
     "metadata": {},
     "output_type": "display_data"
    }
   ],
   "source": [
    "nfl_qb_2022 <- df %>% group_by(season, passer_id, passer) %>% summarize(n = n(), air_yards = mean(air_yards, na.rm = TRUE), \n",
    "                                                                       yards_after_catch = mean(yards_after_catch, na.rm = TRUE))\n",
    "\n",
    "head(nfl_qb_2022)"
   ]
  },
  {
   "cell_type": "markdown",
   "id": "33875bc7",
   "metadata": {},
   "source": [
    "Ok, this is cool. We immediately see the greatest player in league history, Tom Brady, here. We also see another Michigan legend, though, in Chiefs backup quarterback (and two-time Super Bowl champion) Chad Henne. We probably don't want such low-sample players here, as they will skew the data with noise. Let's filter out players with less than 100 passing plays in the 2022 season, and plot the relationship that is left over:"
   ]
  },
  {
   "cell_type": "code",
   "execution_count": 10,
   "id": "3e754892",
   "metadata": {},
   "outputs": [
    {
     "name": "stderr",
     "output_type": "stream",
     "text": [
      "`geom_smooth()` using formula 'y ~ x'\n"
     ]
    },
    {
     "data": {
      "image/png": "[encoded data removed]",
      "text/plain": [
       "plot without title"
      ]
     },
     "metadata": {},
     "output_type": "display_data"
    }
   ],
   "source": [
    "nfl_qb_2022 <- nfl_qb_2022 %>% filter(n >= 100)\n",
    "ggplot(nfl_qb_2022, aes(air_yards, yards_after_catch)) + geom_point() + \n",
    "geom_smooth(method = \"lm\") + theme_minimal() + labs(x = \"Season-Long ADOT\", y = \"Season-Long YAC\")"
   ]
  },
  {
   "cell_type": "markdown",
   "id": "9b04eedc",
   "metadata": {},
   "source": [
    "Ok, now the negative relationship is much more definitive! Let's look at the correlation between these two variables:"
   ]
  },
  {
   "cell_type": "code",
   "execution_count": 11,
   "id": "fd15b4d7",
   "metadata": {},
   "outputs": [
    {
     "data": {
      "text/html": [
       "-0.723959003238822"
      ],
      "text/latex": [
       "-0.723959003238822"
      ],
      "text/markdown": [
       "-0.723959003238822"
      ],
      "text/plain": [
       "[1] -0.723959"
      ]
     },
     "metadata": {},
     "output_type": "display_data"
    }
   ],
   "source": [
    "cor(nfl_qb_2022$air_yards, nfl_qb_2022$yards_after_catch)"
   ]
  },
  {
   "cell_type": "markdown",
   "id": "ee16704a",
   "metadata": {},
   "source": [
    "This is much bigger. Hence, and we'll get back to this idea in a second, when aggregated to the season level, average depth of target and yards after the catch per completed pass are less two variables than they are \"one-and-a-half variables\". One thing that is interesting is looking at the two extremes on the graph.  Let's do that: "
   ]
  },
  {
   "cell_type": "code",
   "execution_count": 12,
   "id": "b064af04",
   "metadata": {},
   "outputs": [
    {
     "name": "stderr",
     "output_type": "stream",
     "text": [
      "`geom_smooth()` using formula 'y ~ x'\n",
      "Warning message:\n",
      "\"Removed 1 rows containing missing values (geom_text).\""
     ]
    },
    {
     "data": {
      "image/png": "[encoded data removed]",
      "text/plain": [
       "plot without title"
      ]
     },
     "metadata": {},
     "output_type": "display_data"
    }
   ],
   "source": [
    "ggplot(nfl_qb_2022, aes(air_yards, yards_after_catch, label = passer)) + geom_text() + \n",
    "geom_smooth(method = \"lm\") + theme_minimal() + labs(x = \"Season-Long ADOT\", y = \"Season-Long YAC\")"
   ]
  },
  {
   "cell_type": "markdown",
   "id": "c1d7a6c3",
   "metadata": {},
   "source": [
    "Jimmy Garoppolo plays in an offense that allows him to get rid of the ball quickly and shortly, with great players running with it after the catch. Jameis Winston, who once led the entire league in passing yards in 2019, was on the other side of the spectrum, throwing the longest passes in the league until his benching in favor of Andy Dalton. \n",
    "\n",
    "Future work, should you choose to take it on, would be to see how _stable_ average depth of target and yards after the catch are from year to year for quarterbacks. Are these things that oscillate significantly from one season to the next? Or are they something that is characteristic of a quarterback - data that has a high correlation from one season to the next? \n",
    "\n",
    "You'll need the full data from _nflfastR_ to do this analysis, which you can find here: https://www.nflfastr.com/"
   ]
  },
  {
   "cell_type": "markdown",
   "id": "1a0b414b",
   "metadata": {},
   "source": [
    "### Time for Questions/Break"
   ]
  },
  {
   "cell_type": "markdown",
   "id": "045c2cd7",
   "metadata": {},
   "source": [
    "## Regression Modeling"
   ]
  },
  {
   "cell_type": "markdown",
   "id": "95d8a229",
   "metadata": {},
   "source": [
    "Exploratory data analysis can get you a decent ways in football analytics and analytics in general, allowing you to learn more about not only the data representing the system you're studying but the system itself. \n",
    "\n",
    "However, in order to make processes _repeatable_, whether they be data wrangling, monitoring or prediction processes, a robust modeling framework is required. One such process is regression. \n",
    "\n",
    "In statistics and machine learning, _regression_ analysis is a set of statistical processes for estimating the relationships between a dependent variable (often called the 'outcome' or 'response' variable, or a 'label') and one or more independent variables (often called 'predictors', 'covariates', 'explanatory variables' or 'features'). \n",
    "\n",
    "The most common form of regression analysis is _linear regression_, in which one finds the line (or, in higher dimensions, linear object) that most closely fits the data."
   ]
  },
  {
   "cell_type": "markdown",
   "id": "d6e3c24f",
   "metadata": {},
   "source": [
    "In this workshop, we're going to adjust rushing yards gained on a play by the play-level features that could affect them. In sports analytics, this is often called _normalizing_ the data for situation, or _context_. For rushing yards gained, the number of variables that could influence the end result are seemingly endless. However, for right now, let's just look at the yards needed for a first down or touchdown, which in the dataset is the column _ydstogo_:"
   ]
  },
  {
   "cell_type": "code",
   "execution_count": 16,
   "id": "04e53a4b",
   "metadata": {},
   "outputs": [
    {
     "name": "stderr",
     "output_type": "stream",
     "text": [
      "`geom_smooth()` using formula 'y ~ x'\n"
     ]
    },
    {
     "data": {
      "image/png": "[encoded data removed]",
      "text/plain": [
       "plot without title"
      ]
     },
     "metadata": {},
     "output_type": "display_data"
    }
   ],
   "source": [
    "# first, we filter only to run plays\n",
    "df_run <- df %>% filter(play_type == \"run\", !is.na(rusher_id), !is.na(rushing_yards))\n",
    "\n",
    "ggplot(df_run, aes(ydstogo, rushing_yards)) + geom_point() + geom_smooth(method = \"lm\") + \n",
    "theme_minimal() + labs(x = \"Yards to Go for First Down/Touchdown\", y = \"Rushing Yards\")"
   ]
  },
  {
   "cell_type": "markdown",
   "id": "8dac0130",
   "metadata": {},
   "source": [
    "There looks to be a small positive relationship here! Why is that (for the football knowers in the room)?"
   ]
  },
  {
   "cell_type": "markdown",
   "id": "c7ceea36",
   "metadata": {},
   "source": [
    "Thus, it's reasonable to assume a linear relationship between yards to go for a first down and rushing yards gained on a play. To model this, we need the following snippet of code from R:"
   ]
  },
  {
   "cell_type": "code",
   "execution_count": 17,
   "id": "6d139bd3",
   "metadata": {},
   "outputs": [],
   "source": [
    "fit_run <- lm(rushing_yards ~ ydstogo, data = df_run)"
   ]
  },
  {
   "cell_type": "markdown",
   "id": "23485a6d",
   "metadata": {},
   "source": [
    "Here, _rushing_yards_ is the response variable, followed by _~_ to denote that the response variable depends on what follows, which is _ydstogo_. The final argument is the dataset that is used to _train_ the model. \n",
    "\n",
    "Now, we can look at the model to determine if the relationship is significant, and how much each yard to go is worth in terms of _expected rushing yards_ on average:"
   ]
  },
  {
   "cell_type": "code",
   "execution_count": 19,
   "id": "fc33a5d4",
   "metadata": {},
   "outputs": [
    {
     "data": {
      "text/plain": [
       "\n",
       "Call:\n",
       "lm(formula = rushing_yards ~ ydstogo, data = df_run)\n",
       "\n",
       "Residuals:\n",
       "    Min      1Q  Median      3Q     Max \n",
       "-30.315  -3.388  -1.452   1.274  81.274 \n",
       "\n",
       "Coefficients:\n",
       "            Estimate Std. Error t value Pr(>|t|)    \n",
       "(Intercept)  3.35431    0.12199  27.497   <2e-16 ***\n",
       "ydstogo      0.13722    0.01403   9.784   <2e-16 ***\n",
       "---\n",
       "Signif. codes:  0 '***' 0.001 '**' 0.01 '*' 0.05 '.' 0.1 ' ' 1\n",
       "\n",
       "Residual standard error: 6.316 on 14044 degrees of freedom\n",
       "Multiple R-squared:  0.006769,\tAdjusted R-squared:  0.006699 \n",
       "F-statistic: 95.72 on 1 and 14044 DF,  p-value: < 2.2e-16\n"
      ]
     },
     "metadata": {},
     "output_type": "display_data"
    }
   ],
   "source": [
    "summary(fit_run)"
   ]
  },
  {
   "cell_type": "markdown",
   "id": "c6495440",
   "metadata": {},
   "source": [
    "Notice, the p-value (which is the likelihood of obtaining the results of this regression, or something more extreme, if the relationship between rushing yards and yards to go for a first down was not actually apparent) is less than 10^(-16). Furthermore, it looks like each yard to go for a first down/touchdown adds about 0.14 yards per carry to the ballcarrier. This is not insignificant. If one runner ran on first down and 10 yards to go on each of their carries, and another on third down and one yard to go on each of there's, the difference in yards per carry would be expected to be (everything else equal, which they aren't) 1.2 yards. This is huge."
   ]
  },
  {
   "cell_type": "markdown",
   "id": "7a2db39c",
   "metadata": {},
   "source": [
    "Is this the best we can do, though? Let's look at our data again and create a different color for each down:"
   ]
  },
  {
   "cell_type": "code",
   "execution_count": 20,
   "id": "cfbbf16b",
   "metadata": {},
   "outputs": [
    {
     "name": "stderr",
     "output_type": "stream",
     "text": [
      "`geom_smooth()` using formula 'y ~ x'\n"
     ]
    },
    {
     "data": {
      "image/png": "[encoded data removed]",
      "text/plain": [
       "plot without title"
      ]
     },
     "metadata": {},
     "output_type": "display_data"
    }
   ],
   "source": [
    "ggplot(df_run, aes(ydstogo, rushing_yards, color = as.factor(down))) + geom_point() + geom_smooth(method = \"lm\") + \n",
    "theme_minimal() + labs(x = \"Yards to Go for First Down/Touchdown\", y = \"Rushing Yards\", color = \"Down\")"
   ]
  },
  {
   "cell_type": "markdown",
   "id": "9959f398",
   "metadata": {},
   "source": [
    "Notice that there are different slopes for different downs! In fact, for fourth downs, there doesn't appear to be much in the way of a relationship between rushing yards gained and yards to go for a first down. Let's add down to the model as a factor variable, and let's use an interaction term between down and distance to go for a first down:"
   ]
  },
  {
   "cell_type": "code",
   "execution_count": 21,
   "id": "09528074",
   "metadata": {},
   "outputs": [
    {
     "data": {
      "text/plain": [
       "\n",
       "Call:\n",
       "lm(formula = rushing_yards ~ (as.factor(down) + ydstogo)^2, data = df_run)\n",
       "\n",
       "Residuals:\n",
       "    Min      1Q  Median      3Q     Max \n",
       "-28.758  -3.315  -1.315   1.408  81.408 \n",
       "\n",
       "Coefficients:\n",
       "                         Estimate Std. Error t value Pr(>|t|)    \n",
       "(Intercept)               1.16674    0.37097   3.145  0.00166 ** \n",
       "as.factor(down)2          2.63092    0.41293   6.371 1.93e-10 ***\n",
       "as.factor(down)3          2.38693    0.42487   5.618 1.97e-08 ***\n",
       "as.factor(down)4          1.43473    0.60325   2.378  0.01740 *  \n",
       "ydstogo                   0.34253    0.03741   9.157  < 2e-16 ***\n",
       "as.factor(down)2:ydstogo -0.23911    0.04467  -5.353 8.78e-08 ***\n",
       "as.factor(down)3:ydstogo -0.13165    0.05201  -2.531  0.01138 *  \n",
       "as.factor(down)4:ydstogo -0.32023    0.18666  -1.716  0.08627 .  \n",
       "---\n",
       "Signif. codes:  0 '***' 0.001 '**' 0.01 '*' 0.05 '.' 0.1 ' ' 1\n",
       "\n",
       "Residual standard error: 6.303 on 14038 degrees of freedom\n",
       "Multiple R-squared:  0.01127,\tAdjusted R-squared:  0.01077 \n",
       "F-statistic: 22.85 on 7 and 14038 DF,  p-value: < 2.2e-16\n"
      ]
     },
     "metadata": {},
     "output_type": "display_data"
    }
   ],
   "source": [
    "fit_run <- lm(rushing_yards ~ (as.factor(down) + ydstogo)^2, data = df_run)\n",
    "summary(fit_run)"
   ]
  },
  {
   "cell_type": "markdown",
   "id": "dfcc3f6c",
   "metadata": {},
   "source": [
    "Ok, let's apply this model to our dataset, as _exp_rushing_yards_, and take the residual, calling it rushing yards over expected (RYOE):"
   ]
  },
  {
   "cell_type": "code",
   "execution_count": 23,
   "id": "e879df44",
   "metadata": {},
   "outputs": [],
   "source": [
    "df_run[, \"exp_rushing_yards\"] <- predict(fit_run, df_run)\n",
    "df_run[, \"RYOE\"] <- df_run$rushing_yards - df_run$exp_rushing_yards"
   ]
  },
  {
   "cell_type": "markdown",
   "id": "f8797c97",
   "metadata": {},
   "source": [
    "Let's look at the leaders in total rushing yards and rushing yards over expected (RYOE) during the 2022 season:"
   ]
  },
  {
   "cell_type": "code",
   "execution_count": 25,
   "id": "3599f830",
   "metadata": {},
   "outputs": [
    {
     "name": "stderr",
     "output_type": "stream",
     "text": [
      "`summarise()` has grouped output by 'season', 'rusher_id'. You can override using the `.groups` argument.\n"
     ]
    },
    {
     "data": {
      "text/html": [
       "<table>\n",
       "<thead><tr><th scope=col>season</th><th scope=col>rusher_id</th><th scope=col>rusher</th><th scope=col>n</th><th scope=col>rushing_yards</th><th scope=col>RYOE</th></tr></thead>\n",
       "<tbody>\n",
       "\t<tr><td>2022       </td><td>00-0034796 </td><td>L.Jackson  </td><td> 73        </td><td> 571       </td><td>264.31088  </td></tr>\n",
       "\t<tr><td>2022       </td><td>00-0036973 </td><td>T.Etienne  </td><td>250        </td><td>1296       </td><td>202.68304  </td></tr>\n",
       "\t<tr><td>2022       </td><td>00-0033293 </td><td>A.Jones    </td><td>213        </td><td>1121       </td><td>171.69651  </td></tr>\n",
       "\t<tr><td>2022       </td><td>00-0034791 </td><td>N.Chubb    </td><td>302        </td><td>1525       </td><td>160.72386  </td></tr>\n",
       "\t<tr><td>2022       </td><td>00-0033357 </td><td>T.Hill     </td><td> 96        </td><td> 575       </td><td>159.14017  </td></tr>\n",
       "\t<tr><td>2022       </td><td>00-0035700 </td><td>J.Jacobs   </td><td>340        </td><td>1653       </td><td>157.00262  </td></tr>\n",
       "\t<tr><td>2022       </td><td>00-0036945 </td><td>J.Fields   </td><td> 85        </td><td> 510       </td><td>141.48394  </td></tr>\n",
       "\t<tr><td>2022       </td><td>00-0036906 </td><td>K.Herbert  </td><td>129        </td><td> 731       </td><td>138.68822  </td></tr>\n",
       "\t<tr><td>2022       </td><td>00-0035261 </td><td>T.Pollard  </td><td>214        </td><td>1106       </td><td>133.11017  </td></tr>\n",
       "\t<tr><td>2022       </td><td>00-0033280 </td><td>C.McCaffrey</td><td>284        </td><td>1377       </td><td>115.25479  </td></tr>\n",
       "\t<tr><td>2022       </td><td>00-0037197 </td><td>I.Pacheco  </td><td>207        </td><td>1027       </td><td>110.51189  </td></tr>\n",
       "\t<tr><td>2022       </td><td>00-0036158 </td><td>J.Dobbins  </td><td>105        </td><td> 582       </td><td>108.90178  </td></tr>\n",
       "\t<tr><td>2022       </td><td>00-0035243 </td><td>M.Sanders  </td><td>294        </td><td>1417       </td><td>108.26762  </td></tr>\n",
       "\t<tr><td>2022       </td><td>00-0037263 </td><td>T.Allgeier </td><td>210        </td><td>1035       </td><td>106.62134  </td></tr>\n",
       "\t<tr><td>2022       </td><td>00-0038120 </td><td>Br.Hall    </td><td> 80        </td><td> 463       </td><td> 95.00999  </td></tr>\n",
       "</tbody>\n",
       "</table>\n"
      ],
      "text/latex": [
       "\\begin{tabular}{r|llllll}\n",
       " season & rusher\\_id & rusher & n & rushing\\_yards & RYOE\\\\\n",
       "\\hline\n",
       "\t 2022        & 00-0034796  & L.Jackson   &  73         &  571        & 264.31088  \\\\\n",
       "\t 2022        & 00-0036973  & T.Etienne   & 250         & 1296        & 202.68304  \\\\\n",
       "\t 2022        & 00-0033293  & A.Jones     & 213         & 1121        & 171.69651  \\\\\n",
       "\t 2022        & 00-0034791  & N.Chubb     & 302         & 1525        & 160.72386  \\\\\n",
       "\t 2022        & 00-0033357  & T.Hill      &  96         &  575        & 159.14017  \\\\\n",
       "\t 2022        & 00-0035700  & J.Jacobs    & 340         & 1653        & 157.00262  \\\\\n",
       "\t 2022        & 00-0036945  & J.Fields    &  85         &  510        & 141.48394  \\\\\n",
       "\t 2022        & 00-0036906  & K.Herbert   & 129         &  731        & 138.68822  \\\\\n",
       "\t 2022        & 00-0035261  & T.Pollard   & 214         & 1106        & 133.11017  \\\\\n",
       "\t 2022        & 00-0033280  & C.McCaffrey & 284         & 1377        & 115.25479  \\\\\n",
       "\t 2022        & 00-0037197  & I.Pacheco   & 207         & 1027        & 110.51189  \\\\\n",
       "\t 2022        & 00-0036158  & J.Dobbins   & 105         &  582        & 108.90178  \\\\\n",
       "\t 2022        & 00-0035243  & M.Sanders   & 294         & 1417        & 108.26762  \\\\\n",
       "\t 2022        & 00-0037263  & T.Allgeier  & 210         & 1035        & 106.62134  \\\\\n",
       "\t 2022        & 00-0038120  & Br.Hall     &  80         &  463        &  95.00999  \\\\\n",
       "\\end{tabular}\n"
      ],
      "text/markdown": [
       "\n",
       "| season | rusher_id | rusher | n | rushing_yards | RYOE |\n",
       "|---|---|---|---|---|---|\n",
       "| 2022        | 00-0034796  | L.Jackson   |  73         |  571        | 264.31088   |\n",
       "| 2022        | 00-0036973  | T.Etienne   | 250         | 1296        | 202.68304   |\n",
       "| 2022        | 00-0033293  | A.Jones     | 213         | 1121        | 171.69651   |\n",
       "| 2022        | 00-0034791  | N.Chubb     | 302         | 1525        | 160.72386   |\n",
       "| 2022        | 00-0033357  | T.Hill      |  96         |  575        | 159.14017   |\n",
       "| 2022        | 00-0035700  | J.Jacobs    | 340         | 1653        | 157.00262   |\n",
       "| 2022        | 00-0036945  | J.Fields    |  85         |  510        | 141.48394   |\n",
       "| 2022        | 00-0036906  | K.Herbert   | 129         |  731        | 138.68822   |\n",
       "| 2022        | 00-0035261  | T.Pollard   | 214         | 1106        | 133.11017   |\n",
       "| 2022        | 00-0033280  | C.McCaffrey | 284         | 1377        | 115.25479   |\n",
       "| 2022        | 00-0037197  | I.Pacheco   | 207         | 1027        | 110.51189   |\n",
       "| 2022        | 00-0036158  | J.Dobbins   | 105         |  582        | 108.90178   |\n",
       "| 2022        | 00-0035243  | M.Sanders   | 294         | 1417        | 108.26762   |\n",
       "| 2022        | 00-0037263  | T.Allgeier  | 210         | 1035        | 106.62134   |\n",
       "| 2022        | 00-0038120  | Br.Hall     |  80         |  463        |  95.00999   |\n",
       "\n"
      ],
      "text/plain": [
       "   season rusher_id  rusher      n   rushing_yards RYOE     \n",
       "1  2022   00-0034796 L.Jackson    73  571          264.31088\n",
       "2  2022   00-0036973 T.Etienne   250 1296          202.68304\n",
       "3  2022   00-0033293 A.Jones     213 1121          171.69651\n",
       "4  2022   00-0034791 N.Chubb     302 1525          160.72386\n",
       "5  2022   00-0033357 T.Hill       96  575          159.14017\n",
       "6  2022   00-0035700 J.Jacobs    340 1653          157.00262\n",
       "7  2022   00-0036945 J.Fields     85  510          141.48394\n",
       "8  2022   00-0036906 K.Herbert   129  731          138.68822\n",
       "9  2022   00-0035261 T.Pollard   214 1106          133.11017\n",
       "10 2022   00-0033280 C.McCaffrey 284 1377          115.25479\n",
       "11 2022   00-0037197 I.Pacheco   207 1027          110.51189\n",
       "12 2022   00-0036158 J.Dobbins   105  582          108.90178\n",
       "13 2022   00-0035243 M.Sanders   294 1417          108.26762\n",
       "14 2022   00-0037263 T.Allgeier  210 1035          106.62134\n",
       "15 2022   00-0038120 Br.Hall      80  463           95.00999"
      ]
     },
     "metadata": {},
     "output_type": "display_data"
    }
   ],
   "source": [
    "df_run %>% group_by(season, rusher_id, rusher) %>% summarize(n = n(), rushing_yards = sum(rushing_yards), RYOE = sum(RYOE)) %>% \n",
    "arrange(-RYOE) %>% head(15)"
   ]
  },
  {
   "cell_type": "markdown",
   "id": "14cecdd6",
   "metadata": {},
   "source": [
    "Lamar Jackson, who is currently in a contract dispuit with the Baltimore Ravens, led the NFL last year in total rushing yards over expected, and by quite a bit. These were all generated from the quarterback position, and on _designed runs_, not passing plays that broke down into a run. Notice we do see some other quarterbacks on this list as well, Taysom Hill of the Saints and Justin Fields of the Bears. First-year players Travis Etienne (who missed his rookie season with an injury), Isiah Pacheco, Tyler Allgeier and Breece Hall appear, as do franchise tag players Josh Jacobs and Tony Pollard. \n",
    "\n",
    "Christian McCaffrey is currently the highest-paid running back in the NFL and was recently traded to the 49ers for multiple draft picks. Adjusting for situation appears to have ranked the players differently. For more on RYOE, see the following: https://www.nfl.com/news/next-gen-stats-intro-to-expected-rushing-yards"
   ]
  },
  {
   "cell_type": "markdown",
   "id": "0f485494",
   "metadata": {},
   "source": [
    "### Time for Questions/Break"
   ]
  },
  {
   "cell_type": "markdown",
   "id": "ce6405ae",
   "metadata": {},
   "source": [
    "Now, we stay on the regression topic to talk about the NFL Draft, which recently took place in Kansas City, MO. We look at drafts from 2000 to 2019 for insights in how well teams draft players, after _controlling_ for draft position.\n",
    "\n",
    "Here, we read in draft data from _Pro Football Reference_, and look at the first few records of the data:"
   ]
  },
  {
   "cell_type": "code",
   "execution_count": 11,
   "id": "e0036037",
   "metadata": {},
   "outputs": [
    {
     "data": {
      "text/html": [
       "<table>\n",
       "<thead><tr><th scope=col>Season</th><th scope=col>Rnd</th><th scope=col>Pick</th><th scope=col>Player</th><th scope=col>Tm</th><th scope=col>Position</th><th scope=col>Age</th><th scope=col>College</th><th scope=col>To</th><th scope=col>AP1</th><th scope=col>PB</th><th scope=col>St</th><th scope=col>wAV</th><th scope=col>DrAV</th><th scope=col>G</th></tr></thead>\n",
       "<tbody>\n",
       "\t<tr><td>2000           </td><td>1              </td><td>1              </td><td>Courtney Brown </td><td>CLE            </td><td>DE             </td><td>22             </td><td>Penn St.       </td><td>2005           </td><td>0              </td><td>0              </td><td>4              </td><td>27             </td><td>21             </td><td> 61            </td></tr>\n",
       "\t<tr><td>2000           </td><td>1              </td><td>2              </td><td>LaVar Arrington</td><td>WAS            </td><td>LB             </td><td>22             </td><td>Penn St.       </td><td>2006           </td><td>0              </td><td>3              </td><td>5              </td><td>46             </td><td>45             </td><td> 85            </td></tr>\n",
       "\t<tr><td>2000           </td><td>1              </td><td>3              </td><td>Chris Samuels  </td><td>WAS            </td><td>T              </td><td>23             </td><td>Alabama        </td><td>2009           </td><td>0              </td><td>6              </td><td>9              </td><td>63             </td><td>63             </td><td>141            </td></tr>\n",
       "\t<tr><td>2000           </td><td>1              </td><td>4              </td><td>Peter Warrick  </td><td>CIN            </td><td>WR             </td><td>23             </td><td>Florida St.    </td><td>2005           </td><td>0              </td><td>0              </td><td>4              </td><td>27             </td><td>25             </td><td> 79            </td></tr>\n",
       "\t<tr><td>2000           </td><td>1              </td><td>5              </td><td>Jamal Lewis    </td><td>BAL            </td><td>RB             </td><td>21             </td><td>Tennessee      </td><td>2009           </td><td>1              </td><td>1              </td><td>9              </td><td>69             </td><td>53             </td><td>131            </td></tr>\n",
       "\t<tr><td>2000           </td><td>1              </td><td>6              </td><td>Corey Simon    </td><td>PHI            </td><td>DT             </td><td>23             </td><td>Florida St.    </td><td>2007           </td><td>0              </td><td>1              </td><td>6              </td><td>45             </td><td>41             </td><td> 95            </td></tr>\n",
       "</tbody>\n",
       "</table>\n"
      ],
      "text/latex": [
       "\\begin{tabular}{r|lllllllllllllll}\n",
       " Season & Rnd & Pick & Player & Tm & Position & Age & College & To & AP1 & PB & St & wAV & DrAV & G\\\\\n",
       "\\hline\n",
       "\t 2000            & 1               & 1               & Courtney Brown  & CLE             & DE              & 22              & Penn St.        & 2005            & 0               & 0               & 4               & 27              & 21              &  61            \\\\\n",
       "\t 2000            & 1               & 2               & LaVar Arrington & WAS             & LB              & 22              & Penn St.        & 2006            & 0               & 3               & 5               & 46              & 45              &  85            \\\\\n",
       "\t 2000            & 1               & 3               & Chris Samuels   & WAS             & T               & 23              & Alabama         & 2009            & 0               & 6               & 9               & 63              & 63              & 141            \\\\\n",
       "\t 2000            & 1               & 4               & Peter Warrick   & CIN             & WR              & 23              & Florida St.     & 2005            & 0               & 0               & 4               & 27              & 25              &  79            \\\\\n",
       "\t 2000            & 1               & 5               & Jamal Lewis     & BAL             & RB              & 21              & Tennessee       & 2009            & 1               & 1               & 9               & 69              & 53              & 131            \\\\\n",
       "\t 2000            & 1               & 6               & Corey Simon     & PHI             & DT              & 23              & Florida St.     & 2007            & 0               & 1               & 6               & 45              & 41              &  95            \\\\\n",
       "\\end{tabular}\n"
      ],
      "text/markdown": [
       "\n",
       "| Season | Rnd | Pick | Player | Tm | Position | Age | College | To | AP1 | PB | St | wAV | DrAV | G |\n",
       "|---|---|---|---|---|---|---|---|---|---|---|---|---|---|---|\n",
       "| 2000            | 1               | 1               | Courtney Brown  | CLE             | DE              | 22              | Penn St.        | 2005            | 0               | 0               | 4               | 27              | 21              |  61             |\n",
       "| 2000            | 1               | 2               | LaVar Arrington | WAS             | LB              | 22              | Penn St.        | 2006            | 0               | 3               | 5               | 46              | 45              |  85             |\n",
       "| 2000            | 1               | 3               | Chris Samuels   | WAS             | T               | 23              | Alabama         | 2009            | 0               | 6               | 9               | 63              | 63              | 141             |\n",
       "| 2000            | 1               | 4               | Peter Warrick   | CIN             | WR              | 23              | Florida St.     | 2005            | 0               | 0               | 4               | 27              | 25              |  79             |\n",
       "| 2000            | 1               | 5               | Jamal Lewis     | BAL             | RB              | 21              | Tennessee       | 2009            | 1               | 1               | 9               | 69              | 53              | 131             |\n",
       "| 2000            | 1               | 6               | Corey Simon     | PHI             | DT              | 23              | Florida St.     | 2007            | 0               | 1               | 6               | 45              | 41              |  95             |\n",
       "\n"
      ],
      "text/plain": [
       "  Season Rnd Pick Player          Tm  Position Age College     To   AP1 PB St\n",
       "1 2000   1   1    Courtney Brown  CLE DE       22  Penn St.    2005 0   0  4 \n",
       "2 2000   1   2    LaVar Arrington WAS LB       22  Penn St.    2006 0   3  5 \n",
       "3 2000   1   3    Chris Samuels   WAS T        23  Alabama     2009 0   6  9 \n",
       "4 2000   1   4    Peter Warrick   CIN WR       23  Florida St. 2005 0   0  4 \n",
       "5 2000   1   5    Jamal Lewis     BAL RB       21  Tennessee   2009 1   1  9 \n",
       "6 2000   1   6    Corey Simon     PHI DT       23  Florida St. 2007 0   1  6 \n",
       "  wAV DrAV G  \n",
       "1 27  21    61\n",
       "2 46  45    85\n",
       "3 63  63   141\n",
       "4 27  25    79\n",
       "5 69  53   131\n",
       "6 45  41    95"
      ]
     },
     "metadata": {},
     "output_type": "display_data"
    }
   ],
   "source": [
    "library(dplyr)\n",
    "setwd(\"C:/Users/eric/Dropbox/PC (2)/Documents\")\n",
    "df <- read.csv(\"nfl_draft_data.csv\")\n",
    "head(df)"
   ]
  },
  {
   "cell_type": "markdown",
   "id": "5c5a2b42",
   "metadata": {},
   "source": [
    "Here, we have the first six picks of the 2000 NFL Draft. Let's look at the tail of the data:"
   ]
  },
  {
   "cell_type": "code",
   "execution_count": 12,
   "id": "6ffa73fa",
   "metadata": {},
   "outputs": [
    {
     "data": {
      "text/html": [
       "<table>\n",
       "<thead><tr><th></th><th scope=col>Season</th><th scope=col>Rnd</th><th scope=col>Pick</th><th scope=col>Player</th><th scope=col>Tm</th><th scope=col>Position</th><th scope=col>Age</th><th scope=col>College</th><th scope=col>To</th><th scope=col>AP1</th><th scope=col>PB</th><th scope=col>St</th><th scope=col>wAV</th><th scope=col>DrAV</th><th scope=col>G</th></tr></thead>\n",
       "<tbody>\n",
       "\t<tr><th scope=row>5090</th><td>2019            </td><td>7               </td><td>249             </td><td>Michael Dogbe   </td><td>ARI             </td><td>DE              </td><td>23              </td><td>Temple          </td><td>2022            </td><td>0               </td><td>0               </td><td>0               </td><td>4               </td><td> 4              </td><td>40              </td></tr>\n",
       "\t<tr><th scope=row>5091</th><td>2019            </td><td>7               </td><td>250             </td><td>Austin Cutting  </td><td>MIN             </td><td>LS              </td><td>22              </td><td>Air Force       </td><td>2020            </td><td>0               </td><td>0               </td><td>0               </td><td>1               </td><td> 1              </td><td>25              </td></tr>\n",
       "\t<tr><th scope=row>5092</th><td>2019            </td><td>7               </td><td>251             </td><td>Dakota Allen    </td><td>LAR             </td><td>LB              </td><td>23              </td><td>Texas Tech      </td><td>2022            </td><td>0               </td><td>0               </td><td>0               </td><td>2               </td><td>NA              </td><td>38              </td></tr>\n",
       "\t<tr><th scope=row>5093</th><td>2019            </td><td>7               </td><td>252             </td><td>Ken Webster     </td><td>NWE             </td><td>CB              </td><td>23              </td><td>Mississippi     </td><td>2020            </td><td>0               </td><td>0               </td><td>0               </td><td>3               </td><td>NA              </td><td>17              </td></tr>\n",
       "\t<tr><th scope=row>5094</th><td>2019            </td><td>7               </td><td>253             </td><td>Jordan Brailford</td><td>WAS             </td><td>DE              </td><td>23              </td><td>Oklahoma St.    </td><td>2020            </td><td>0               </td><td>0               </td><td>0               </td><td>1               </td><td>NA              </td><td> 5              </td></tr>\n",
       "\t<tr><th scope=row>5095</th><td>2019            </td><td>7               </td><td>254             </td><td>Caleb Wilson    </td><td>ARI             </td><td>TE              </td><td>23              </td><td>UCLA            </td><td>2020            </td><td>0               </td><td>0               </td><td>0               </td><td>0               </td><td>NA              </td><td> 5              </td></tr>\n",
       "</tbody>\n",
       "</table>\n"
      ],
      "text/latex": [
       "\\begin{tabular}{r|lllllllllllllll}\n",
       "  & Season & Rnd & Pick & Player & Tm & Position & Age & College & To & AP1 & PB & St & wAV & DrAV & G\\\\\n",
       "\\hline\n",
       "\t5090 & 2019             & 7                & 249              & Michael Dogbe    & ARI              & DE               & 23               & Temple           & 2022             & 0                & 0                & 0                & 4                &  4               & 40              \\\\\n",
       "\t5091 & 2019             & 7                & 250              & Austin Cutting   & MIN              & LS               & 22               & Air Force        & 2020             & 0                & 0                & 0                & 1                &  1               & 25              \\\\\n",
       "\t5092 & 2019             & 7                & 251              & Dakota Allen     & LAR              & LB               & 23               & Texas Tech       & 2022             & 0                & 0                & 0                & 2                & NA               & 38              \\\\\n",
       "\t5093 & 2019             & 7                & 252              & Ken Webster      & NWE              & CB               & 23               & Mississippi      & 2020             & 0                & 0                & 0                & 3                & NA               & 17              \\\\\n",
       "\t5094 & 2019             & 7                & 253              & Jordan Brailford & WAS              & DE               & 23               & Oklahoma St.     & 2020             & 0                & 0                & 0                & 1                & NA               &  5              \\\\\n",
       "\t5095 & 2019             & 7                & 254              & Caleb Wilson     & ARI              & TE               & 23               & UCLA             & 2020             & 0                & 0                & 0                & 0                & NA               &  5              \\\\\n",
       "\\end{tabular}\n"
      ],
      "text/markdown": [
       "\n",
       "| <!--/--> | Season | Rnd | Pick | Player | Tm | Position | Age | College | To | AP1 | PB | St | wAV | DrAV | G |\n",
       "|---|---|---|---|---|---|---|---|---|---|---|---|---|---|---|---|\n",
       "| 5090 | 2019             | 7                | 249              | Michael Dogbe    | ARI              | DE               | 23               | Temple           | 2022             | 0                | 0                | 0                | 4                |  4               | 40               |\n",
       "| 5091 | 2019             | 7                | 250              | Austin Cutting   | MIN              | LS               | 22               | Air Force        | 2020             | 0                | 0                | 0                | 1                |  1               | 25               |\n",
       "| 5092 | 2019             | 7                | 251              | Dakota Allen     | LAR              | LB               | 23               | Texas Tech       | 2022             | 0                | 0                | 0                | 2                | NA               | 38               |\n",
       "| 5093 | 2019             | 7                | 252              | Ken Webster      | NWE              | CB               | 23               | Mississippi      | 2020             | 0                | 0                | 0                | 3                | NA               | 17               |\n",
       "| 5094 | 2019             | 7                | 253              | Jordan Brailford | WAS              | DE               | 23               | Oklahoma St.     | 2020             | 0                | 0                | 0                | 1                | NA               |  5               |\n",
       "| 5095 | 2019             | 7                | 254              | Caleb Wilson     | ARI              | TE               | 23               | UCLA             | 2020             | 0                | 0                | 0                | 0                | NA               |  5               |\n",
       "\n"
      ],
      "text/plain": [
       "     Season Rnd Pick Player           Tm  Position Age College      To   AP1 PB\n",
       "5090 2019   7   249  Michael Dogbe    ARI DE       23  Temple       2022 0   0 \n",
       "5091 2019   7   250  Austin Cutting   MIN LS       22  Air Force    2020 0   0 \n",
       "5092 2019   7   251  Dakota Allen     LAR LB       23  Texas Tech   2022 0   0 \n",
       "5093 2019   7   252  Ken Webster      NWE CB       23  Mississippi  2020 0   0 \n",
       "5094 2019   7   253  Jordan Brailford WAS DE       23  Oklahoma St. 2020 0   0 \n",
       "5095 2019   7   254  Caleb Wilson     ARI TE       23  UCLA         2020 0   0 \n",
       "     St wAV DrAV G \n",
       "5090 0  4    4   40\n",
       "5091 0  1    1   25\n",
       "5092 0  2   NA   38\n",
       "5093 0  3   NA   17\n",
       "5094 0  1   NA    5\n",
       "5095 0  0   NA    5"
      ]
     },
     "metadata": {},
     "output_type": "display_data"
    }
   ],
   "source": [
    "tail(df)"
   ]
  },
  {
   "cell_type": "markdown",
   "id": "01d529ee",
   "metadata": {},
   "source": [
    "The question we want to ask in this workshop is \"are some NFL teams better or worse at drafting than others, after adjusting for draft position?\". The last part, adjusting for draft position, requires some work. The variable we're going to look at is _DrAV_, which is the Approximate Value (as derived by Pro Football Reference) earned for the team that drafted the player. Approximate Value takes into consideration things like games played, statistics generated, team success, and other measures that comprehensively assess the success of a player during a given season and, when aggregated, career. Let's look at how this value tails off with respect to draft position:"
   ]
  },
  {
   "cell_type": "code",
   "execution_count": 14,
   "id": "ea8666a5",
   "metadata": {},
   "outputs": [
    {
     "name": "stderr",
     "output_type": "stream",
     "text": [
      "`geom_smooth()` using method = 'gam' and formula 'y ~ s(x, bs = \"cs\")'\n"
     ]
    },
    {
     "data": {
      "image/png": "[encoded data removed]",
      "text/plain": [
       "plot without title"
      ]
     },
     "metadata": {},
     "output_type": "display_data"
    }
   ],
   "source": [
    "# let's make players with NA in terms of approximate value have a zero value\n",
    "df$DrAV[is.na(df$DrAV)] <- 0\n",
    "ggplot(df, aes(Pick, DrAV)) + geom_point() + geom_smooth() + theme_minimal() + \n",
    "labs(x = \"Pick\", y = \"Approximate Value Earned During Time with Drafted Team\")"
   ]
  },
  {
   "cell_type": "markdown",
   "id": "54da4c85",
   "metadata": {},
   "source": [
    "Ok, so this is what you'd expect from a functioning league, draft pick value decreasing as the draft goes on. This decline, however, does not appear linear, but rather something more exponential. So, we use our mathematical modeling from the previous section not on _DrAV_, but on the natural logarithm in _DrAV_. Doing so:"
   ]
  },
  {
   "cell_type": "code",
   "execution_count": 43,
   "id": "4dd56a9d",
   "metadata": {},
   "outputs": [
    {
     "name": "stderr",
     "output_type": "stream",
     "text": [
      "`geom_smooth()` using method = 'gam' and formula 'y ~ s(x, bs = \"cs\")'\n"
     ]
    },
    {
     "data": {
      "image/png": "[encoded data removed]",
      "text/plain": [
       "plot without title"
      ]
     },
     "metadata": {},
     "output_type": "display_data"
    }
   ],
   "source": [
    "ggplot(df, aes(Pick, log(pmax(DrAV, 0) + 1))) + geom_point() + geom_smooth() + theme_minimal() + \n",
    "labs(x = \"Pick\", y = \"Log of Approximate Value Earned During Time with Drafted Team\")"
   ]
  },
  {
   "cell_type": "code",
   "execution_count": 31,
   "id": "57f3ae1c",
   "metadata": {},
   "outputs": [
    {
     "data": {
      "text/plain": [
       "\n",
       "Call:\n",
       "lm(formula = DrAV ~ Pick, data = df %>% mutate(DrAV = log(pmax(DrAV, \n",
       "    0) + 1)))\n",
       "\n",
       "Residuals:\n",
       "    Min      1Q  Median      3Q     Max \n",
       "-3.1072 -0.7990 -0.0393  0.7657  4.2199 \n",
       "\n",
       "Coefficients:\n",
       "              Estimate Std. Error t value Pr(>|t|)    \n",
       "(Intercept)  3.1183371  0.0307650  101.36   <2e-16 ***\n",
       "Pick        -0.0110972  0.0002085  -53.22   <2e-16 ***\n",
       "---\n",
       "Signif. codes:  0 '***' 0.001 '**' 0.01 '*' 0.05 '.' 0.1 ' ' 1\n",
       "\n",
       "Residual standard error: 1.095 on 5093 degrees of freedom\n",
       "Multiple R-squared:  0.3574,\tAdjusted R-squared:  0.3573 \n",
       "F-statistic:  2832 on 1 and 5093 DF,  p-value: < 2.2e-16\n"
      ]
     },
     "metadata": {},
     "output_type": "display_data"
    }
   ],
   "source": [
    "fit_DrAV <- lm(DrAV ~ Pick, data = df %>% mutate(DrAV = log(pmax(DrAV, 0) + 1)))\n",
    "summary(fit_DrAV)"
   ]
  },
  {
   "cell_type": "markdown",
   "id": "4b725bbe",
   "metadata": {},
   "source": [
    "This isn't an awful fit, as about 36 percent of the variance in the log of the output is influenced by the pick in which a player went in the draft. Let's apply it to our data:"
   ]
  },
  {
   "cell_type": "code",
   "execution_count": 25,
   "id": "1c4b924d",
   "metadata": {},
   "outputs": [
    {
     "data": {
      "text/html": [
       "<table>\n",
       "<thead><tr><th scope=col>Season</th><th scope=col>Rnd</th><th scope=col>Pick</th><th scope=col>Player</th><th scope=col>Tm</th><th scope=col>Position</th><th scope=col>Age</th><th scope=col>College</th><th scope=col>To</th><th scope=col>AP1</th><th scope=col>PB</th><th scope=col>St</th><th scope=col>wAV</th><th scope=col>DrAV</th><th scope=col>G</th><th scope=col>exp_DrAV</th></tr></thead>\n",
       "<tbody>\n",
       "\t<tr><td>2000           </td><td>1              </td><td>1              </td><td>Courtney Brown </td><td>CLE            </td><td>DE             </td><td>22             </td><td>Penn St.       </td><td>2005           </td><td>0              </td><td>0              </td><td>4              </td><td>27             </td><td>21             </td><td> 61            </td><td>21.35924       </td></tr>\n",
       "\t<tr><td>2000           </td><td>1              </td><td>2              </td><td>LaVar Arrington</td><td>WAS            </td><td>LB             </td><td>22             </td><td>Penn St.       </td><td>2006           </td><td>0              </td><td>3              </td><td>5              </td><td>46             </td><td>45             </td><td> 85            </td><td>21.11249       </td></tr>\n",
       "\t<tr><td>2000           </td><td>1              </td><td>3              </td><td>Chris Samuels  </td><td>WAS            </td><td>T              </td><td>23             </td><td>Alabama        </td><td>2009           </td><td>0              </td><td>6              </td><td>9              </td><td>63             </td><td>63             </td><td>141            </td><td>20.86846       </td></tr>\n",
       "\t<tr><td>2000           </td><td>1              </td><td>4              </td><td>Peter Warrick  </td><td>CIN            </td><td>WR             </td><td>23             </td><td>Florida St.    </td><td>2005           </td><td>0              </td><td>0              </td><td>4              </td><td>27             </td><td>25             </td><td> 79            </td><td>20.62712       </td></tr>\n",
       "\t<tr><td>2000           </td><td>1              </td><td>5              </td><td>Jamal Lewis    </td><td>BAL            </td><td>RB             </td><td>21             </td><td>Tennessee      </td><td>2009           </td><td>1              </td><td>1              </td><td>9              </td><td>69             </td><td>53             </td><td>131            </td><td>20.38845       </td></tr>\n",
       "\t<tr><td>2000           </td><td>1              </td><td>6              </td><td>Corey Simon    </td><td>PHI            </td><td>DT             </td><td>23             </td><td>Florida St.    </td><td>2007           </td><td>0              </td><td>1              </td><td>6              </td><td>45             </td><td>41             </td><td> 95            </td><td>20.15241       </td></tr>\n",
       "</tbody>\n",
       "</table>\n"
      ],
      "text/latex": [
       "\\begin{tabular}{r|llllllllllllllll}\n",
       " Season & Rnd & Pick & Player & Tm & Position & Age & College & To & AP1 & PB & St & wAV & DrAV & G & exp\\_DrAV\\\\\n",
       "\\hline\n",
       "\t 2000            & 1               & 1               & Courtney Brown  & CLE             & DE              & 22              & Penn St.        & 2005            & 0               & 0               & 4               & 27              & 21              &  61             & 21.35924       \\\\\n",
       "\t 2000            & 1               & 2               & LaVar Arrington & WAS             & LB              & 22              & Penn St.        & 2006            & 0               & 3               & 5               & 46              & 45              &  85             & 21.11249       \\\\\n",
       "\t 2000            & 1               & 3               & Chris Samuels   & WAS             & T               & 23              & Alabama         & 2009            & 0               & 6               & 9               & 63              & 63              & 141             & 20.86846       \\\\\n",
       "\t 2000            & 1               & 4               & Peter Warrick   & CIN             & WR              & 23              & Florida St.     & 2005            & 0               & 0               & 4               & 27              & 25              &  79             & 20.62712       \\\\\n",
       "\t 2000            & 1               & 5               & Jamal Lewis     & BAL             & RB              & 21              & Tennessee       & 2009            & 1               & 1               & 9               & 69              & 53              & 131             & 20.38845       \\\\\n",
       "\t 2000            & 1               & 6               & Corey Simon     & PHI             & DT              & 23              & Florida St.     & 2007            & 0               & 1               & 6               & 45              & 41              &  95             & 20.15241       \\\\\n",
       "\\end{tabular}\n"
      ],
      "text/markdown": [
       "\n",
       "| Season | Rnd | Pick | Player | Tm | Position | Age | College | To | AP1 | PB | St | wAV | DrAV | G | exp_DrAV |\n",
       "|---|---|---|---|---|---|---|---|---|---|---|---|---|---|---|---|\n",
       "| 2000            | 1               | 1               | Courtney Brown  | CLE             | DE              | 22              | Penn St.        | 2005            | 0               | 0               | 4               | 27              | 21              |  61             | 21.35924        |\n",
       "| 2000            | 1               | 2               | LaVar Arrington | WAS             | LB              | 22              | Penn St.        | 2006            | 0               | 3               | 5               | 46              | 45              |  85             | 21.11249        |\n",
       "| 2000            | 1               | 3               | Chris Samuels   | WAS             | T               | 23              | Alabama         | 2009            | 0               | 6               | 9               | 63              | 63              | 141             | 20.86846        |\n",
       "| 2000            | 1               | 4               | Peter Warrick   | CIN             | WR              | 23              | Florida St.     | 2005            | 0               | 0               | 4               | 27              | 25              |  79             | 20.62712        |\n",
       "| 2000            | 1               | 5               | Jamal Lewis     | BAL             | RB              | 21              | Tennessee       | 2009            | 1               | 1               | 9               | 69              | 53              | 131             | 20.38845        |\n",
       "| 2000            | 1               | 6               | Corey Simon     | PHI             | DT              | 23              | Florida St.     | 2007            | 0               | 1               | 6               | 45              | 41              |  95             | 20.15241        |\n",
       "\n"
      ],
      "text/plain": [
       "  Season Rnd Pick Player          Tm  Position Age College     To   AP1 PB St\n",
       "1 2000   1   1    Courtney Brown  CLE DE       22  Penn St.    2005 0   0  4 \n",
       "2 2000   1   2    LaVar Arrington WAS LB       22  Penn St.    2006 0   3  5 \n",
       "3 2000   1   3    Chris Samuels   WAS T        23  Alabama     2009 0   6  9 \n",
       "4 2000   1   4    Peter Warrick   CIN WR       23  Florida St. 2005 0   0  4 \n",
       "5 2000   1   5    Jamal Lewis     BAL RB       21  Tennessee   2009 1   1  9 \n",
       "6 2000   1   6    Corey Simon     PHI DT       23  Florida St. 2007 0   1  6 \n",
       "  wAV DrAV G   exp_DrAV\n",
       "1 27  21    61 21.35924\n",
       "2 46  45    85 21.11249\n",
       "3 63  63   141 20.86846\n",
       "4 27  25    79 20.62712\n",
       "5 69  53   131 20.38845\n",
       "6 45  41    95 20.15241"
      ]
     },
     "metadata": {},
     "output_type": "display_data"
    },
    {
     "data": {
      "text/html": [
       "<table>\n",
       "<thead><tr><th></th><th scope=col>Season</th><th scope=col>Rnd</th><th scope=col>Pick</th><th scope=col>Player</th><th scope=col>Tm</th><th scope=col>Position</th><th scope=col>Age</th><th scope=col>College</th><th scope=col>To</th><th scope=col>AP1</th><th scope=col>PB</th><th scope=col>St</th><th scope=col>wAV</th><th scope=col>DrAV</th><th scope=col>G</th><th scope=col>exp_DrAV</th></tr></thead>\n",
       "<tbody>\n",
       "\t<tr><th scope=row>5090</th><td>2019            </td><td>7               </td><td>249             </td><td>Michael Dogbe   </td><td>ARI             </td><td>DE              </td><td>23              </td><td>Temple          </td><td>2022            </td><td>0               </td><td>0               </td><td>0               </td><td>4               </td><td>4               </td><td>40              </td><td>0.4263680       </td></tr>\n",
       "\t<tr><th scope=row>5091</th><td>2019            </td><td>7               </td><td>250             </td><td>Austin Cutting  </td><td>MIN             </td><td>LS              </td><td>22              </td><td>Air Force       </td><td>2020            </td><td>0               </td><td>0               </td><td>0               </td><td>1               </td><td>1               </td><td>25              </td><td>0.4106268       </td></tr>\n",
       "\t<tr><th scope=row>5092</th><td>2019            </td><td>7               </td><td>251             </td><td>Dakota Allen    </td><td>LAR             </td><td>LB              </td><td>23              </td><td>Texas Tech      </td><td>2022            </td><td>0               </td><td>0               </td><td>0               </td><td>2               </td><td>0               </td><td>38              </td><td>0.3950593       </td></tr>\n",
       "\t<tr><th scope=row>5093</th><td>2019            </td><td>7               </td><td>252             </td><td>Ken Webster     </td><td>NWE             </td><td>CB              </td><td>23              </td><td>Mississippi     </td><td>2020            </td><td>0               </td><td>0               </td><td>0               </td><td>3               </td><td>0               </td><td>17              </td><td>0.3796636       </td></tr>\n",
       "\t<tr><th scope=row>5094</th><td>2019            </td><td>7               </td><td>253             </td><td>Jordan Brailford</td><td>WAS             </td><td>DE              </td><td>23              </td><td>Oklahoma St.    </td><td>2020            </td><td>0               </td><td>0               </td><td>0               </td><td>1               </td><td>0               </td><td> 5              </td><td>0.3644378       </td></tr>\n",
       "\t<tr><th scope=row>5095</th><td>2019            </td><td>7               </td><td>254             </td><td>Caleb Wilson    </td><td>ARI             </td><td>TE              </td><td>23              </td><td>UCLA            </td><td>2020            </td><td>0               </td><td>0               </td><td>0               </td><td>0               </td><td>0               </td><td> 5              </td><td>0.3493801       </td></tr>\n",
       "</tbody>\n",
       "</table>\n"
      ],
      "text/latex": [
       "\\begin{tabular}{r|llllllllllllllll}\n",
       "  & Season & Rnd & Pick & Player & Tm & Position & Age & College & To & AP1 & PB & St & wAV & DrAV & G & exp\\_DrAV\\\\\n",
       "\\hline\n",
       "\t5090 & 2019             & 7                & 249              & Michael Dogbe    & ARI              & DE               & 23               & Temple           & 2022             & 0                & 0                & 0                & 4                & 4                & 40               & 0.4263680       \\\\\n",
       "\t5091 & 2019             & 7                & 250              & Austin Cutting   & MIN              & LS               & 22               & Air Force        & 2020             & 0                & 0                & 0                & 1                & 1                & 25               & 0.4106268       \\\\\n",
       "\t5092 & 2019             & 7                & 251              & Dakota Allen     & LAR              & LB               & 23               & Texas Tech       & 2022             & 0                & 0                & 0                & 2                & 0                & 38               & 0.3950593       \\\\\n",
       "\t5093 & 2019             & 7                & 252              & Ken Webster      & NWE              & CB               & 23               & Mississippi      & 2020             & 0                & 0                & 0                & 3                & 0                & 17               & 0.3796636       \\\\\n",
       "\t5094 & 2019             & 7                & 253              & Jordan Brailford & WAS              & DE               & 23               & Oklahoma St.     & 2020             & 0                & 0                & 0                & 1                & 0                &  5               & 0.3644378       \\\\\n",
       "\t5095 & 2019             & 7                & 254              & Caleb Wilson     & ARI              & TE               & 23               & UCLA             & 2020             & 0                & 0                & 0                & 0                & 0                &  5               & 0.3493801       \\\\\n",
       "\\end{tabular}\n"
      ],
      "text/markdown": [
       "\n",
       "| <!--/--> | Season | Rnd | Pick | Player | Tm | Position | Age | College | To | AP1 | PB | St | wAV | DrAV | G | exp_DrAV |\n",
       "|---|---|---|---|---|---|---|---|---|---|---|---|---|---|---|---|---|\n",
       "| 5090 | 2019             | 7                | 249              | Michael Dogbe    | ARI              | DE               | 23               | Temple           | 2022             | 0                | 0                | 0                | 4                | 4                | 40               | 0.4263680        |\n",
       "| 5091 | 2019             | 7                | 250              | Austin Cutting   | MIN              | LS               | 22               | Air Force        | 2020             | 0                | 0                | 0                | 1                | 1                | 25               | 0.4106268        |\n",
       "| 5092 | 2019             | 7                | 251              | Dakota Allen     | LAR              | LB               | 23               | Texas Tech       | 2022             | 0                | 0                | 0                | 2                | 0                | 38               | 0.3950593        |\n",
       "| 5093 | 2019             | 7                | 252              | Ken Webster      | NWE              | CB               | 23               | Mississippi      | 2020             | 0                | 0                | 0                | 3                | 0                | 17               | 0.3796636        |\n",
       "| 5094 | 2019             | 7                | 253              | Jordan Brailford | WAS              | DE               | 23               | Oklahoma St.     | 2020             | 0                | 0                | 0                | 1                | 0                |  5               | 0.3644378        |\n",
       "| 5095 | 2019             | 7                | 254              | Caleb Wilson     | ARI              | TE               | 23               | UCLA             | 2020             | 0                | 0                | 0                | 0                | 0                |  5               | 0.3493801        |\n",
       "\n"
      ],
      "text/plain": [
       "     Season Rnd Pick Player           Tm  Position Age College      To   AP1 PB\n",
       "5090 2019   7   249  Michael Dogbe    ARI DE       23  Temple       2022 0   0 \n",
       "5091 2019   7   250  Austin Cutting   MIN LS       22  Air Force    2020 0   0 \n",
       "5092 2019   7   251  Dakota Allen     LAR LB       23  Texas Tech   2022 0   0 \n",
       "5093 2019   7   252  Ken Webster      NWE CB       23  Mississippi  2020 0   0 \n",
       "5094 2019   7   253  Jordan Brailford WAS DE       23  Oklahoma St. 2020 0   0 \n",
       "5095 2019   7   254  Caleb Wilson     ARI TE       23  UCLA         2020 0   0 \n",
       "     St wAV DrAV G  exp_DrAV \n",
       "5090 0  4   4    40 0.4263680\n",
       "5091 0  1   1    25 0.4106268\n",
       "5092 0  2   0    38 0.3950593\n",
       "5093 0  3   0    17 0.3796636\n",
       "5094 0  1   0     5 0.3644378\n",
       "5095 0  0   0     5 0.3493801"
      ]
     },
     "metadata": {},
     "output_type": "display_data"
    },
    {
     "name": "stderr",
     "output_type": "stream",
     "text": [
      "`stat_bin()` using `bins = 30`. Pick better value with `binwidth`.\n"
     ]
    },
    {
     "data": {
      "image/png": "[encoded data removed]",
      "text/plain": [
       "plot without title"
      ]
     },
     "metadata": {},
     "output_type": "display_data"
    },
    {
     "data": {
      "image/png": "[encoded data removed]",
      "text/plain": [
       "plot without title"
      ]
     },
     "metadata": {},
     "output_type": "display_data"
    }
   ],
   "source": [
    "df[, \"exp_DrAV\"] <- exp(predict(fit_DrAV,df)) - 1\n",
    "head(df)\n",
    "tail(df)\n",
    "ggplot(df, aes(exp_DrAV, DrAV)) + geom_point() + geom_abline() + theme_minimal() + labs(x = \"Expected DrAV\", y = \"DrAV\") \n",
    "ggplot(df, aes(DrAV - exp_DrAV)) + geom_histogram() + theme_minimal() + labs(x = \"Delta between DrAV and Expected DrAV\")"
   ]
  },
  {
   "cell_type": "markdown",
   "id": "c29f9b00",
   "metadata": {},
   "source": [
    "The errors are a bit right-skewed, in large part because the data is a bit right-skewed in the first place. There are some other things we can do to transform the data and get better results, but they are beyond the scope of this workshop. Let's take the average difference between logarithm of the pick and its expectation across the last two decades:"
   ]
  },
  {
   "cell_type": "code",
   "execution_count": 36,
   "id": "7e1f7e9e",
   "metadata": {},
   "outputs": [
    {
     "data": {
      "text/html": [
       "<table>\n",
       "<thead><tr><th scope=col>Tm</th><th scope=col>n</th><th scope=col>mean_Diff</th><th scope=col>sd_Diff</th><th scope=col>SE</th></tr></thead>\n",
       "<tbody>\n",
       "\t<tr><td>LAC         </td><td> 21         </td><td> 0.562657663</td><td>0.8795288   </td><td>0.19192891  </td></tr>\n",
       "\t<tr><td>LAR         </td><td> 33         </td><td> 0.349284145</td><td>0.8353395   </td><td>0.14541394  </td></tr>\n",
       "\t<tr><td>IND         </td><td>162         </td><td> 0.180684107</td><td>1.1537662   </td><td>0.09064844  </td></tr>\n",
       "\t<tr><td>ATL         </td><td>148         </td><td> 0.159349609</td><td>1.0611524   </td><td>0.08722619  </td></tr>\n",
       "\t<tr><td>GNB         </td><td>180         </td><td> 0.137389994</td><td>1.2507148   </td><td>0.09322278  </td></tr>\n",
       "\t<tr><td>TEN         </td><td>172         </td><td> 0.095877804</td><td>1.0359953   </td><td>0.07899390  </td></tr>\n",
       "\t<tr><td>SEA         </td><td>181         </td><td> 0.080629906</td><td>1.1116402   </td><td>0.08262756  </td></tr>\n",
       "\t<tr><td>CHI         </td><td>149         </td><td> 0.072722456</td><td>1.1378051   </td><td>0.09321263  </td></tr>\n",
       "\t<tr><td>SDG         </td><td>123         </td><td> 0.072288954</td><td>1.1120089   </td><td>0.10026647  </td></tr>\n",
       "\t<tr><td>BAL         </td><td>170         </td><td> 0.071942678</td><td>1.0747608   </td><td>0.08243039  </td></tr>\n",
       "\t<tr><td>JAX         </td><td>158         </td><td> 0.055505119</td><td>1.0467845   </td><td>0.08327770  </td></tr>\n",
       "\t<tr><td>MIN         </td><td>167         </td><td> 0.029817094</td><td>1.0195142   </td><td>0.07889238  </td></tr>\n",
       "\t<tr><td>DAL         </td><td>160         </td><td> 0.022883916</td><td>1.2035469   </td><td>0.09514874  </td></tr>\n",
       "\t<tr><td>CAR         </td><td>148         </td><td> 0.018661449</td><td>1.1366957   </td><td>0.09343581  </td></tr>\n",
       "\t<tr><td>WAS         </td><td>150         </td><td> 0.012220144</td><td>1.0170912   </td><td>0.08304515  </td></tr>\n",
       "\t<tr><td>NYG         </td><td>145         </td><td> 0.011088720</td><td>1.0703450   </td><td>0.08888732  </td></tr>\n",
       "\t<tr><td>SFO         </td><td>184         </td><td> 0.004065664</td><td>1.1525278   </td><td>0.08496547  </td></tr>\n",
       "\t<tr><td>PIT         </td><td>161         </td><td> 0.003469269</td><td>1.2172016   </td><td>0.09592892  </td></tr>\n",
       "\t<tr><td>BUF         </td><td>161         </td><td>-0.002488644</td><td>0.9713502   </td><td>0.07655312  </td></tr>\n",
       "\t<tr><td>ARI         </td><td>149         </td><td>-0.006682321</td><td>1.0460226   </td><td>0.08569351  </td></tr>\n",
       "\t<tr><td>HOU         </td><td>145         </td><td>-0.030699979</td><td>1.0539356   </td><td>0.08752459  </td></tr>\n",
       "\t<tr><td>NYJ         </td><td>137         </td><td>-0.042800853</td><td>1.0577884   </td><td>0.09037297  </td></tr>\n",
       "\t<tr><td>CIN         </td><td>176         </td><td>-0.054778275</td><td>1.1281562   </td><td>0.08503797  </td></tr>\n",
       "\t<tr><td>KAN         </td><td>154         </td><td>-0.055745077</td><td>1.1065362   </td><td>0.08916723  </td></tr>\n",
       "\t<tr><td>MIA         </td><td>151         </td><td>-0.059131056</td><td>1.1234961   </td><td>0.09142882  </td></tr>\n",
       "\t<tr><td>NWE         </td><td>176         </td><td>-0.062387026</td><td>1.2893068   </td><td>0.09718516  </td></tr>\n",
       "\t<tr><td>DET         </td><td>155         </td><td>-0.063470828</td><td>0.9370546   </td><td>0.07526604  </td></tr>\n",
       "\t<tr><td>PHI         </td><td>162         </td><td>-0.064359817</td><td>1.1514736   </td><td>0.09046831  </td></tr>\n",
       "\t<tr><td>NOR         </td><td>131         </td><td>-0.069292922</td><td>1.2189824   </td><td>0.10650299  </td></tr>\n",
       "\t<tr><td>TAM         </td><td>153         </td><td>-0.077149527</td><td>0.9877859   </td><td>0.07985776  </td></tr>\n",
       "\t<tr><td>OAK         </td><td>162         </td><td>-0.110529389</td><td>1.0001105   </td><td>0.07857610  </td></tr>\n",
       "\t<tr><td>DEN         </td><td>159         </td><td>-0.152653428</td><td>1.1274464   </td><td>0.08941231  </td></tr>\n",
       "\t<tr><td>STL         </td><td>142         </td><td>-0.164557576</td><td>1.0185014   </td><td>0.08547074  </td></tr>\n",
       "\t<tr><td>CLE         </td><td>170         </td><td>-0.190311591</td><td>0.9021230   </td><td>0.06918968  </td></tr>\n",
       "</tbody>\n",
       "</table>\n"
      ],
      "text/latex": [
       "\\begin{tabular}{r|lllll}\n",
       " Tm & n & mean\\_Diff & sd\\_Diff & SE\\\\\n",
       "\\hline\n",
       "\t LAC          &  21          &  0.562657663 & 0.8795288    & 0.19192891  \\\\\n",
       "\t LAR          &  33          &  0.349284145 & 0.8353395    & 0.14541394  \\\\\n",
       "\t IND          & 162          &  0.180684107 & 1.1537662    & 0.09064844  \\\\\n",
       "\t ATL          & 148          &  0.159349609 & 1.0611524    & 0.08722619  \\\\\n",
       "\t GNB          & 180          &  0.137389994 & 1.2507148    & 0.09322278  \\\\\n",
       "\t TEN          & 172          &  0.095877804 & 1.0359953    & 0.07899390  \\\\\n",
       "\t SEA          & 181          &  0.080629906 & 1.1116402    & 0.08262756  \\\\\n",
       "\t CHI          & 149          &  0.072722456 & 1.1378051    & 0.09321263  \\\\\n",
       "\t SDG          & 123          &  0.072288954 & 1.1120089    & 0.10026647  \\\\\n",
       "\t BAL          & 170          &  0.071942678 & 1.0747608    & 0.08243039  \\\\\n",
       "\t JAX          & 158          &  0.055505119 & 1.0467845    & 0.08327770  \\\\\n",
       "\t MIN          & 167          &  0.029817094 & 1.0195142    & 0.07889238  \\\\\n",
       "\t DAL          & 160          &  0.022883916 & 1.2035469    & 0.09514874  \\\\\n",
       "\t CAR          & 148          &  0.018661449 & 1.1366957    & 0.09343581  \\\\\n",
       "\t WAS          & 150          &  0.012220144 & 1.0170912    & 0.08304515  \\\\\n",
       "\t NYG          & 145          &  0.011088720 & 1.0703450    & 0.08888732  \\\\\n",
       "\t SFO          & 184          &  0.004065664 & 1.1525278    & 0.08496547  \\\\\n",
       "\t PIT          & 161          &  0.003469269 & 1.2172016    & 0.09592892  \\\\\n",
       "\t BUF          & 161          & -0.002488644 & 0.9713502    & 0.07655312  \\\\\n",
       "\t ARI          & 149          & -0.006682321 & 1.0460226    & 0.08569351  \\\\\n",
       "\t HOU          & 145          & -0.030699979 & 1.0539356    & 0.08752459  \\\\\n",
       "\t NYJ          & 137          & -0.042800853 & 1.0577884    & 0.09037297  \\\\\n",
       "\t CIN          & 176          & -0.054778275 & 1.1281562    & 0.08503797  \\\\\n",
       "\t KAN          & 154          & -0.055745077 & 1.1065362    & 0.08916723  \\\\\n",
       "\t MIA          & 151          & -0.059131056 & 1.1234961    & 0.09142882  \\\\\n",
       "\t NWE          & 176          & -0.062387026 & 1.2893068    & 0.09718516  \\\\\n",
       "\t DET          & 155          & -0.063470828 & 0.9370546    & 0.07526604  \\\\\n",
       "\t PHI          & 162          & -0.064359817 & 1.1514736    & 0.09046831  \\\\\n",
       "\t NOR          & 131          & -0.069292922 & 1.2189824    & 0.10650299  \\\\\n",
       "\t TAM          & 153          & -0.077149527 & 0.9877859    & 0.07985776  \\\\\n",
       "\t OAK          & 162          & -0.110529389 & 1.0001105    & 0.07857610  \\\\\n",
       "\t DEN          & 159          & -0.152653428 & 1.1274464    & 0.08941231  \\\\\n",
       "\t STL          & 142          & -0.164557576 & 1.0185014    & 0.08547074  \\\\\n",
       "\t CLE          & 170          & -0.190311591 & 0.9021230    & 0.06918968  \\\\\n",
       "\\end{tabular}\n"
      ],
      "text/markdown": [
       "\n",
       "| Tm | n | mean_Diff | sd_Diff | SE |\n",
       "|---|---|---|---|---|\n",
       "| LAC          |  21          |  0.562657663 | 0.8795288    | 0.19192891   |\n",
       "| LAR          |  33          |  0.349284145 | 0.8353395    | 0.14541394   |\n",
       "| IND          | 162          |  0.180684107 | 1.1537662    | 0.09064844   |\n",
       "| ATL          | 148          |  0.159349609 | 1.0611524    | 0.08722619   |\n",
       "| GNB          | 180          |  0.137389994 | 1.2507148    | 0.09322278   |\n",
       "| TEN          | 172          |  0.095877804 | 1.0359953    | 0.07899390   |\n",
       "| SEA          | 181          |  0.080629906 | 1.1116402    | 0.08262756   |\n",
       "| CHI          | 149          |  0.072722456 | 1.1378051    | 0.09321263   |\n",
       "| SDG          | 123          |  0.072288954 | 1.1120089    | 0.10026647   |\n",
       "| BAL          | 170          |  0.071942678 | 1.0747608    | 0.08243039   |\n",
       "| JAX          | 158          |  0.055505119 | 1.0467845    | 0.08327770   |\n",
       "| MIN          | 167          |  0.029817094 | 1.0195142    | 0.07889238   |\n",
       "| DAL          | 160          |  0.022883916 | 1.2035469    | 0.09514874   |\n",
       "| CAR          | 148          |  0.018661449 | 1.1366957    | 0.09343581   |\n",
       "| WAS          | 150          |  0.012220144 | 1.0170912    | 0.08304515   |\n",
       "| NYG          | 145          |  0.011088720 | 1.0703450    | 0.08888732   |\n",
       "| SFO          | 184          |  0.004065664 | 1.1525278    | 0.08496547   |\n",
       "| PIT          | 161          |  0.003469269 | 1.2172016    | 0.09592892   |\n",
       "| BUF          | 161          | -0.002488644 | 0.9713502    | 0.07655312   |\n",
       "| ARI          | 149          | -0.006682321 | 1.0460226    | 0.08569351   |\n",
       "| HOU          | 145          | -0.030699979 | 1.0539356    | 0.08752459   |\n",
       "| NYJ          | 137          | -0.042800853 | 1.0577884    | 0.09037297   |\n",
       "| CIN          | 176          | -0.054778275 | 1.1281562    | 0.08503797   |\n",
       "| KAN          | 154          | -0.055745077 | 1.1065362    | 0.08916723   |\n",
       "| MIA          | 151          | -0.059131056 | 1.1234961    | 0.09142882   |\n",
       "| NWE          | 176          | -0.062387026 | 1.2893068    | 0.09718516   |\n",
       "| DET          | 155          | -0.063470828 | 0.9370546    | 0.07526604   |\n",
       "| PHI          | 162          | -0.064359817 | 1.1514736    | 0.09046831   |\n",
       "| NOR          | 131          | -0.069292922 | 1.2189824    | 0.10650299   |\n",
       "| TAM          | 153          | -0.077149527 | 0.9877859    | 0.07985776   |\n",
       "| OAK          | 162          | -0.110529389 | 1.0001105    | 0.07857610   |\n",
       "| DEN          | 159          | -0.152653428 | 1.1274464    | 0.08941231   |\n",
       "| STL          | 142          | -0.164557576 | 1.0185014    | 0.08547074   |\n",
       "| CLE          | 170          | -0.190311591 | 0.9021230    | 0.06918968   |\n",
       "\n"
      ],
      "text/plain": [
       "   Tm  n   mean_Diff    sd_Diff   SE        \n",
       "1  LAC  21  0.562657663 0.8795288 0.19192891\n",
       "2  LAR  33  0.349284145 0.8353395 0.14541394\n",
       "3  IND 162  0.180684107 1.1537662 0.09064844\n",
       "4  ATL 148  0.159349609 1.0611524 0.08722619\n",
       "5  GNB 180  0.137389994 1.2507148 0.09322278\n",
       "6  TEN 172  0.095877804 1.0359953 0.07899390\n",
       "7  SEA 181  0.080629906 1.1116402 0.08262756\n",
       "8  CHI 149  0.072722456 1.1378051 0.09321263\n",
       "9  SDG 123  0.072288954 1.1120089 0.10026647\n",
       "10 BAL 170  0.071942678 1.0747608 0.08243039\n",
       "11 JAX 158  0.055505119 1.0467845 0.08327770\n",
       "12 MIN 167  0.029817094 1.0195142 0.07889238\n",
       "13 DAL 160  0.022883916 1.2035469 0.09514874\n",
       "14 CAR 148  0.018661449 1.1366957 0.09343581\n",
       "15 WAS 150  0.012220144 1.0170912 0.08304515\n",
       "16 NYG 145  0.011088720 1.0703450 0.08888732\n",
       "17 SFO 184  0.004065664 1.1525278 0.08496547\n",
       "18 PIT 161  0.003469269 1.2172016 0.09592892\n",
       "19 BUF 161 -0.002488644 0.9713502 0.07655312\n",
       "20 ARI 149 -0.006682321 1.0460226 0.08569351\n",
       "21 HOU 145 -0.030699979 1.0539356 0.08752459\n",
       "22 NYJ 137 -0.042800853 1.0577884 0.09037297\n",
       "23 CIN 176 -0.054778275 1.1281562 0.08503797\n",
       "24 KAN 154 -0.055745077 1.1065362 0.08916723\n",
       "25 MIA 151 -0.059131056 1.1234961 0.09142882\n",
       "26 NWE 176 -0.062387026 1.2893068 0.09718516\n",
       "27 DET 155 -0.063470828 0.9370546 0.07526604\n",
       "28 PHI 162 -0.064359817 1.1514736 0.09046831\n",
       "29 NOR 131 -0.069292922 1.2189824 0.10650299\n",
       "30 TAM 153 -0.077149527 0.9877859 0.07985776\n",
       "31 OAK 162 -0.110529389 1.0001105 0.07857610\n",
       "32 DEN 159 -0.152653428 1.1274464 0.08941231\n",
       "33 STL 142 -0.164557576 1.0185014 0.08547074\n",
       "34 CLE 170 -0.190311591 0.9021230 0.06918968"
      ]
     },
     "metadata": {},
     "output_type": "display_data"
    }
   ],
   "source": [
    "group_by(df, Tm) %>% \n",
    "summarize(n = n(), mean_Diff = mean(log(pmax(DrAV,0) + 1) - log(pmax(exp_DrAV, 0) + 1)), \n",
    "          sd_Diff = sd(log(pmax(DrAV,0) + 1) - log(pmax(exp_DrAV, 0) + 1))) %>% \n",
    "mutate(SE = sd_Diff/sqrt(n)) %>%\n",
    "arrange(-mean_Diff)"
   ]
  },
  {
   "cell_type": "markdown",
   "id": "b6c696d1",
   "metadata": {},
   "source": [
    "We created standard errors so that we could answer the question above - whether or not teams are better or worse than average in terms of their drafting. However, there are some issues here that come up. Namely, that there are teams that switched cities and hence abbreviations. Let's combine them. Additionally, let's add an upper and lower bound to our estimate for the log difference between their drafting and expectation:"
   ]
  },
  {
   "cell_type": "code",
   "execution_count": 41,
   "id": "70a264e3",
   "metadata": {},
   "outputs": [
    {
     "data": {
      "text/html": [
       "<table>\n",
       "<thead><tr><th scope=col>Tm</th><th scope=col>n</th><th scope=col>mean_Diff</th><th scope=col>sd_Diff</th><th scope=col>SE</th><th scope=col>Lower</th><th scope=col>Upper</th></tr></thead>\n",
       "<tbody>\n",
       "\t<tr><td>IND         </td><td>162         </td><td> 0.180684107</td><td>1.1537662   </td><td>0.09064844  </td><td> 0.003013174</td><td> 0.35835504 </td></tr>\n",
       "\t<tr><td>ATL         </td><td>148         </td><td> 0.159349609</td><td>1.0611524   </td><td>0.08722619  </td><td>-0.011613717</td><td> 0.33031294 </td></tr>\n",
       "\t<tr><td>LAC         </td><td>144         </td><td> 0.143801057</td><td>1.0923942   </td><td>0.09103285  </td><td>-0.034623327</td><td> 0.32222544 </td></tr>\n",
       "\t<tr><td>GNB         </td><td>180         </td><td> 0.137389994</td><td>1.2507148   </td><td>0.09322278  </td><td>-0.045326654</td><td> 0.32010664 </td></tr>\n",
       "\t<tr><td>TEN         </td><td>172         </td><td> 0.095877804</td><td>1.0359953   </td><td>0.07899390  </td><td>-0.058950245</td><td> 0.25070585 </td></tr>\n",
       "\t<tr><td>SEA         </td><td>181         </td><td> 0.080629906</td><td>1.1116402   </td><td>0.08262756  </td><td>-0.081320119</td><td> 0.24257993 </td></tr>\n",
       "\t<tr><td>CHI         </td><td>149         </td><td> 0.072722456</td><td>1.1378051   </td><td>0.09321263  </td><td>-0.109974290</td><td> 0.25541920 </td></tr>\n",
       "\t<tr><td>BAL         </td><td>170         </td><td> 0.071942678</td><td>1.0747608   </td><td>0.08243039  </td><td>-0.089620882</td><td> 0.23350624 </td></tr>\n",
       "\t<tr><td>JAX         </td><td>158         </td><td> 0.055505119</td><td>1.0467845   </td><td>0.08327770  </td><td>-0.107719175</td><td> 0.21872941 </td></tr>\n",
       "\t<tr><td>MIN         </td><td>167         </td><td> 0.029817094</td><td>1.0195142   </td><td>0.07889238  </td><td>-0.124811969</td><td> 0.18444616 </td></tr>\n",
       "\t<tr><td>DAL         </td><td>160         </td><td> 0.022883916</td><td>1.2035469   </td><td>0.09514874  </td><td>-0.163607605</td><td> 0.20937544 </td></tr>\n",
       "\t<tr><td>CAR         </td><td>148         </td><td> 0.018661449</td><td>1.1366957   </td><td>0.09343581  </td><td>-0.164472742</td><td> 0.20179564 </td></tr>\n",
       "\t<tr><td>WAS         </td><td>150         </td><td> 0.012220144</td><td>1.0170912   </td><td>0.08304515  </td><td>-0.150548344</td><td> 0.17498863 </td></tr>\n",
       "\t<tr><td>NYG         </td><td>145         </td><td> 0.011088720</td><td>1.0703450   </td><td>0.08888732  </td><td>-0.163130421</td><td> 0.18530786 </td></tr>\n",
       "\t<tr><td>SFO         </td><td>184         </td><td> 0.004065664</td><td>1.1525278   </td><td>0.08496547  </td><td>-0.162466667</td><td> 0.17059800 </td></tr>\n",
       "\t<tr><td>PIT         </td><td>161         </td><td> 0.003469269</td><td>1.2172016   </td><td>0.09592892  </td><td>-0.184551416</td><td> 0.19148995 </td></tr>\n",
       "\t<tr><td>BUF         </td><td>161         </td><td>-0.002488644</td><td>0.9713502   </td><td>0.07655312  </td><td>-0.152532756</td><td> 0.14755547 </td></tr>\n",
       "\t<tr><td>ARI         </td><td>149         </td><td>-0.006682321</td><td>1.0460226   </td><td>0.08569351  </td><td>-0.174641599</td><td> 0.16127696 </td></tr>\n",
       "\t<tr><td>HOU         </td><td>145         </td><td>-0.030699979</td><td>1.0539356   </td><td>0.08752459  </td><td>-0.202248170</td><td> 0.14084821 </td></tr>\n",
       "\t<tr><td>NYJ         </td><td>137         </td><td>-0.042800853</td><td>1.0577884   </td><td>0.09037297  </td><td>-0.219931866</td><td> 0.13433016 </td></tr>\n",
       "\t<tr><td>CIN         </td><td>176         </td><td>-0.054778275</td><td>1.1281562   </td><td>0.08503797  </td><td>-0.221452702</td><td> 0.11189615 </td></tr>\n",
       "\t<tr><td>KAN         </td><td>154         </td><td>-0.055745077</td><td>1.1065362   </td><td>0.08916723  </td><td>-0.230512842</td><td> 0.11902269 </td></tr>\n",
       "\t<tr><td>MIA         </td><td>151         </td><td>-0.059131056</td><td>1.1234961   </td><td>0.09142882  </td><td>-0.238331543</td><td> 0.12006943 </td></tr>\n",
       "\t<tr><td>NWE         </td><td>176         </td><td>-0.062387026</td><td>1.2893068   </td><td>0.09718516  </td><td>-0.252869934</td><td> 0.12809588 </td></tr>\n",
       "\t<tr><td>DET         </td><td>155         </td><td>-0.063470828</td><td>0.9370546   </td><td>0.07526604  </td><td>-0.210992265</td><td> 0.08405061 </td></tr>\n",
       "\t<tr><td>PHI         </td><td>162         </td><td>-0.064359817</td><td>1.1514736   </td><td>0.09046831  </td><td>-0.241677705</td><td> 0.11295807 </td></tr>\n",
       "\t<tr><td>LAR         </td><td>175         </td><td>-0.067661709</td><td>1.0047733   </td><td>0.07595372  </td><td>-0.216530998</td><td> 0.08120758 </td></tr>\n",
       "\t<tr><td>NOR         </td><td>131         </td><td>-0.069292922</td><td>1.2189824   </td><td>0.10650299  </td><td>-0.278038780</td><td> 0.13945294 </td></tr>\n",
       "\t<tr><td>TAM         </td><td>153         </td><td>-0.077149527</td><td>0.9877859   </td><td>0.07985776  </td><td>-0.233670731</td><td> 0.07937168 </td></tr>\n",
       "\t<tr><td>LVR         </td><td>162         </td><td>-0.110529389</td><td>1.0001105   </td><td>0.07857610  </td><td>-0.264538551</td><td> 0.04347977 </td></tr>\n",
       "\t<tr><td>DEN         </td><td>159         </td><td>-0.152653428</td><td>1.1274464   </td><td>0.08941231  </td><td>-0.327901559</td><td> 0.02259470 </td></tr>\n",
       "\t<tr><td>CLE         </td><td>170         </td><td>-0.190311591</td><td>0.9021230   </td><td>0.06918968  </td><td>-0.325923362</td><td>-0.05469982 </td></tr>\n",
       "</tbody>\n",
       "</table>\n"
      ],
      "text/latex": [
       "\\begin{tabular}{r|lllllll}\n",
       " Tm & n & mean\\_Diff & sd\\_Diff & SE & Lower & Upper\\\\\n",
       "\\hline\n",
       "\t IND          & 162          &  0.180684107 & 1.1537662    & 0.09064844   &  0.003013174 &  0.35835504 \\\\\n",
       "\t ATL          & 148          &  0.159349609 & 1.0611524    & 0.08722619   & -0.011613717 &  0.33031294 \\\\\n",
       "\t LAC          & 144          &  0.143801057 & 1.0923942    & 0.09103285   & -0.034623327 &  0.32222544 \\\\\n",
       "\t GNB          & 180          &  0.137389994 & 1.2507148    & 0.09322278   & -0.045326654 &  0.32010664 \\\\\n",
       "\t TEN          & 172          &  0.095877804 & 1.0359953    & 0.07899390   & -0.058950245 &  0.25070585 \\\\\n",
       "\t SEA          & 181          &  0.080629906 & 1.1116402    & 0.08262756   & -0.081320119 &  0.24257993 \\\\\n",
       "\t CHI          & 149          &  0.072722456 & 1.1378051    & 0.09321263   & -0.109974290 &  0.25541920 \\\\\n",
       "\t BAL          & 170          &  0.071942678 & 1.0747608    & 0.08243039   & -0.089620882 &  0.23350624 \\\\\n",
       "\t JAX          & 158          &  0.055505119 & 1.0467845    & 0.08327770   & -0.107719175 &  0.21872941 \\\\\n",
       "\t MIN          & 167          &  0.029817094 & 1.0195142    & 0.07889238   & -0.124811969 &  0.18444616 \\\\\n",
       "\t DAL          & 160          &  0.022883916 & 1.2035469    & 0.09514874   & -0.163607605 &  0.20937544 \\\\\n",
       "\t CAR          & 148          &  0.018661449 & 1.1366957    & 0.09343581   & -0.164472742 &  0.20179564 \\\\\n",
       "\t WAS          & 150          &  0.012220144 & 1.0170912    & 0.08304515   & -0.150548344 &  0.17498863 \\\\\n",
       "\t NYG          & 145          &  0.011088720 & 1.0703450    & 0.08888732   & -0.163130421 &  0.18530786 \\\\\n",
       "\t SFO          & 184          &  0.004065664 & 1.1525278    & 0.08496547   & -0.162466667 &  0.17059800 \\\\\n",
       "\t PIT          & 161          &  0.003469269 & 1.2172016    & 0.09592892   & -0.184551416 &  0.19148995 \\\\\n",
       "\t BUF          & 161          & -0.002488644 & 0.9713502    & 0.07655312   & -0.152532756 &  0.14755547 \\\\\n",
       "\t ARI          & 149          & -0.006682321 & 1.0460226    & 0.08569351   & -0.174641599 &  0.16127696 \\\\\n",
       "\t HOU          & 145          & -0.030699979 & 1.0539356    & 0.08752459   & -0.202248170 &  0.14084821 \\\\\n",
       "\t NYJ          & 137          & -0.042800853 & 1.0577884    & 0.09037297   & -0.219931866 &  0.13433016 \\\\\n",
       "\t CIN          & 176          & -0.054778275 & 1.1281562    & 0.08503797   & -0.221452702 &  0.11189615 \\\\\n",
       "\t KAN          & 154          & -0.055745077 & 1.1065362    & 0.08916723   & -0.230512842 &  0.11902269 \\\\\n",
       "\t MIA          & 151          & -0.059131056 & 1.1234961    & 0.09142882   & -0.238331543 &  0.12006943 \\\\\n",
       "\t NWE          & 176          & -0.062387026 & 1.2893068    & 0.09718516   & -0.252869934 &  0.12809588 \\\\\n",
       "\t DET          & 155          & -0.063470828 & 0.9370546    & 0.07526604   & -0.210992265 &  0.08405061 \\\\\n",
       "\t PHI          & 162          & -0.064359817 & 1.1514736    & 0.09046831   & -0.241677705 &  0.11295807 \\\\\n",
       "\t LAR          & 175          & -0.067661709 & 1.0047733    & 0.07595372   & -0.216530998 &  0.08120758 \\\\\n",
       "\t NOR          & 131          & -0.069292922 & 1.2189824    & 0.10650299   & -0.278038780 &  0.13945294 \\\\\n",
       "\t TAM          & 153          & -0.077149527 & 0.9877859    & 0.07985776   & -0.233670731 &  0.07937168 \\\\\n",
       "\t LVR          & 162          & -0.110529389 & 1.0001105    & 0.07857610   & -0.264538551 &  0.04347977 \\\\\n",
       "\t DEN          & 159          & -0.152653428 & 1.1274464    & 0.08941231   & -0.327901559 &  0.02259470 \\\\\n",
       "\t CLE          & 170          & -0.190311591 & 0.9021230    & 0.06918968   & -0.325923362 & -0.05469982 \\\\\n",
       "\\end{tabular}\n"
      ],
      "text/markdown": [
       "\n",
       "| Tm | n | mean_Diff | sd_Diff | SE | Lower | Upper |\n",
       "|---|---|---|---|---|---|---|\n",
       "| IND          | 162          |  0.180684107 | 1.1537662    | 0.09064844   |  0.003013174 |  0.35835504  |\n",
       "| ATL          | 148          |  0.159349609 | 1.0611524    | 0.08722619   | -0.011613717 |  0.33031294  |\n",
       "| LAC          | 144          |  0.143801057 | 1.0923942    | 0.09103285   | -0.034623327 |  0.32222544  |\n",
       "| GNB          | 180          |  0.137389994 | 1.2507148    | 0.09322278   | -0.045326654 |  0.32010664  |\n",
       "| TEN          | 172          |  0.095877804 | 1.0359953    | 0.07899390   | -0.058950245 |  0.25070585  |\n",
       "| SEA          | 181          |  0.080629906 | 1.1116402    | 0.08262756   | -0.081320119 |  0.24257993  |\n",
       "| CHI          | 149          |  0.072722456 | 1.1378051    | 0.09321263   | -0.109974290 |  0.25541920  |\n",
       "| BAL          | 170          |  0.071942678 | 1.0747608    | 0.08243039   | -0.089620882 |  0.23350624  |\n",
       "| JAX          | 158          |  0.055505119 | 1.0467845    | 0.08327770   | -0.107719175 |  0.21872941  |\n",
       "| MIN          | 167          |  0.029817094 | 1.0195142    | 0.07889238   | -0.124811969 |  0.18444616  |\n",
       "| DAL          | 160          |  0.022883916 | 1.2035469    | 0.09514874   | -0.163607605 |  0.20937544  |\n",
       "| CAR          | 148          |  0.018661449 | 1.1366957    | 0.09343581   | -0.164472742 |  0.20179564  |\n",
       "| WAS          | 150          |  0.012220144 | 1.0170912    | 0.08304515   | -0.150548344 |  0.17498863  |\n",
       "| NYG          | 145          |  0.011088720 | 1.0703450    | 0.08888732   | -0.163130421 |  0.18530786  |\n",
       "| SFO          | 184          |  0.004065664 | 1.1525278    | 0.08496547   | -0.162466667 |  0.17059800  |\n",
       "| PIT          | 161          |  0.003469269 | 1.2172016    | 0.09592892   | -0.184551416 |  0.19148995  |\n",
       "| BUF          | 161          | -0.002488644 | 0.9713502    | 0.07655312   | -0.152532756 |  0.14755547  |\n",
       "| ARI          | 149          | -0.006682321 | 1.0460226    | 0.08569351   | -0.174641599 |  0.16127696  |\n",
       "| HOU          | 145          | -0.030699979 | 1.0539356    | 0.08752459   | -0.202248170 |  0.14084821  |\n",
       "| NYJ          | 137          | -0.042800853 | 1.0577884    | 0.09037297   | -0.219931866 |  0.13433016  |\n",
       "| CIN          | 176          | -0.054778275 | 1.1281562    | 0.08503797   | -0.221452702 |  0.11189615  |\n",
       "| KAN          | 154          | -0.055745077 | 1.1065362    | 0.08916723   | -0.230512842 |  0.11902269  |\n",
       "| MIA          | 151          | -0.059131056 | 1.1234961    | 0.09142882   | -0.238331543 |  0.12006943  |\n",
       "| NWE          | 176          | -0.062387026 | 1.2893068    | 0.09718516   | -0.252869934 |  0.12809588  |\n",
       "| DET          | 155          | -0.063470828 | 0.9370546    | 0.07526604   | -0.210992265 |  0.08405061  |\n",
       "| PHI          | 162          | -0.064359817 | 1.1514736    | 0.09046831   | -0.241677705 |  0.11295807  |\n",
       "| LAR          | 175          | -0.067661709 | 1.0047733    | 0.07595372   | -0.216530998 |  0.08120758  |\n",
       "| NOR          | 131          | -0.069292922 | 1.2189824    | 0.10650299   | -0.278038780 |  0.13945294  |\n",
       "| TAM          | 153          | -0.077149527 | 0.9877859    | 0.07985776   | -0.233670731 |  0.07937168  |\n",
       "| LVR          | 162          | -0.110529389 | 1.0001105    | 0.07857610   | -0.264538551 |  0.04347977  |\n",
       "| DEN          | 159          | -0.152653428 | 1.1274464    | 0.08941231   | -0.327901559 |  0.02259470  |\n",
       "| CLE          | 170          | -0.190311591 | 0.9021230    | 0.06918968   | -0.325923362 | -0.05469982  |\n",
       "\n"
      ],
      "text/plain": [
       "   Tm  n   mean_Diff    sd_Diff   SE         Lower        Upper      \n",
       "1  IND 162  0.180684107 1.1537662 0.09064844  0.003013174  0.35835504\n",
       "2  ATL 148  0.159349609 1.0611524 0.08722619 -0.011613717  0.33031294\n",
       "3  LAC 144  0.143801057 1.0923942 0.09103285 -0.034623327  0.32222544\n",
       "4  GNB 180  0.137389994 1.2507148 0.09322278 -0.045326654  0.32010664\n",
       "5  TEN 172  0.095877804 1.0359953 0.07899390 -0.058950245  0.25070585\n",
       "6  SEA 181  0.080629906 1.1116402 0.08262756 -0.081320119  0.24257993\n",
       "7  CHI 149  0.072722456 1.1378051 0.09321263 -0.109974290  0.25541920\n",
       "8  BAL 170  0.071942678 1.0747608 0.08243039 -0.089620882  0.23350624\n",
       "9  JAX 158  0.055505119 1.0467845 0.08327770 -0.107719175  0.21872941\n",
       "10 MIN 167  0.029817094 1.0195142 0.07889238 -0.124811969  0.18444616\n",
       "11 DAL 160  0.022883916 1.2035469 0.09514874 -0.163607605  0.20937544\n",
       "12 CAR 148  0.018661449 1.1366957 0.09343581 -0.164472742  0.20179564\n",
       "13 WAS 150  0.012220144 1.0170912 0.08304515 -0.150548344  0.17498863\n",
       "14 NYG 145  0.011088720 1.0703450 0.08888732 -0.163130421  0.18530786\n",
       "15 SFO 184  0.004065664 1.1525278 0.08496547 -0.162466667  0.17059800\n",
       "16 PIT 161  0.003469269 1.2172016 0.09592892 -0.184551416  0.19148995\n",
       "17 BUF 161 -0.002488644 0.9713502 0.07655312 -0.152532756  0.14755547\n",
       "18 ARI 149 -0.006682321 1.0460226 0.08569351 -0.174641599  0.16127696\n",
       "19 HOU 145 -0.030699979 1.0539356 0.08752459 -0.202248170  0.14084821\n",
       "20 NYJ 137 -0.042800853 1.0577884 0.09037297 -0.219931866  0.13433016\n",
       "21 CIN 176 -0.054778275 1.1281562 0.08503797 -0.221452702  0.11189615\n",
       "22 KAN 154 -0.055745077 1.1065362 0.08916723 -0.230512842  0.11902269\n",
       "23 MIA 151 -0.059131056 1.1234961 0.09142882 -0.238331543  0.12006943\n",
       "24 NWE 176 -0.062387026 1.2893068 0.09718516 -0.252869934  0.12809588\n",
       "25 DET 155 -0.063470828 0.9370546 0.07526604 -0.210992265  0.08405061\n",
       "26 PHI 162 -0.064359817 1.1514736 0.09046831 -0.241677705  0.11295807\n",
       "27 LAR 175 -0.067661709 1.0047733 0.07595372 -0.216530998  0.08120758\n",
       "28 NOR 131 -0.069292922 1.2189824 0.10650299 -0.278038780  0.13945294\n",
       "29 TAM 153 -0.077149527 0.9877859 0.07985776 -0.233670731  0.07937168\n",
       "30 LVR 162 -0.110529389 1.0001105 0.07857610 -0.264538551  0.04347977\n",
       "31 DEN 159 -0.152653428 1.1274464 0.08941231 -0.327901559  0.02259470\n",
       "32 CLE 170 -0.190311591 0.9021230 0.06918968 -0.325923362 -0.05469982"
      ]
     },
     "metadata": {},
     "output_type": "display_data"
    }
   ],
   "source": [
    "df %>% mutate(Tm = as.character(Tm), Tm = case_when(Tm == \"SDG\" ~ \"LAC\", \n",
    "                                   Tm == \"STL\" ~ \"LAR\", \n",
    "                                   Tm == \"OAK\" ~ \"LVR\", \n",
    "                                   TRUE ~ Tm)) %>%\n",
    "group_by(Tm) %>% \n",
    "summarize(n = n(), mean_Diff = mean(log(pmax(DrAV,0) + 1) - log(pmax(exp_DrAV, 0) + 1)), \n",
    "          sd_Diff = sd(log(pmax(DrAV,0) + 1) - log(pmax(exp_DrAV, 0) + 1))) %>% \n",
    "mutate(SE = sd_Diff/sqrt(n)) %>%\n",
    "mutate(Lower = mean_Diff - 1.96*SE, Upper = mean_Diff + 1.96*SE) %>%\n",
    "arrange(-mean_Diff)"
   ]
  },
  {
   "cell_type": "markdown",
   "id": "6287e07f",
   "metadata": {},
   "source": [
    "Notice that there's only one team (the Colts) that have a lower bound above zero, so we're 95% confident they draft better than their draft position - in terms of the differences in the log of draft value. There's one other team that drafts worse than average, with their upper bound beneath zero, and that's the Cleveland Browns - who have made the playoffs twice since 1994 and haven't won their division since 1989.\n",
    "\n",
    "Thus, for the most part, after adjusting for the expectation of the pick, there isn't a ton of evidence that teams are better than drafting (e.g. evaluating) players than other teams."
   ]
  },
  {
   "cell_type": "markdown",
   "id": "b3f3468f",
   "metadata": {},
   "source": [
    "### Time for Questions/Break"
   ]
  },
  {
   "cell_type": "markdown",
   "id": "f517fe85",
   "metadata": {},
   "source": [
    "## Dimensionality Reduction and Clustering"
   ]
  },
  {
   "cell_type": "markdown",
   "id": "3209946a",
   "metadata": {},
   "source": [
    "To close off this workshop, we will look at NFL Scouting Combine data as the basis for dimensionality reduction and clustering. Dimensionality reduction takes data that is _column rich_ and reduces the number of columns by finding - in the case of _pinciple component analysis_ - linear relationships between variables. Once this is done, the process of clustering groups individuals into clusters that are not determined _a priori_, as a part of what is called _unsupervised learning_. \n",
    "\n",
    "Let's take a look at our NFL Scouting Combine data, courtosy of Pro Football Reference:"
   ]
  },
  {
   "cell_type": "code",
   "execution_count": 71,
   "id": "538c6ffd",
   "metadata": {},
   "outputs": [
    {
     "data": {
      "text/html": [
       "<table>\n",
       "<thead><tr><th scope=col>Season</th><th scope=col>Player</th><th scope=col>Pos</th><th scope=col>School</th><th scope=col>Ht</th><th scope=col>Wt</th><th scope=col>Forty</th><th scope=col>Vertical</th><th scope=col>Bench</th><th scope=col>Broad</th><th scope=col>Three_Cone</th><th scope=col>Shuttle</th></tr></thead>\n",
       "<tbody>\n",
       "\t<tr><td>2000            </td><td>John Abraham    </td><td>OLB             </td><td>South Carolina  </td><td>76              </td><td>252             </td><td>4.55            </td><td>NA              </td><td>NA              </td><td> NA             </td><td>  NA            </td><td>  NA            </td></tr>\n",
       "\t<tr><td>2000            </td><td>Shaun Alexander </td><td>RB              </td><td>Alabama         </td><td>72              </td><td>218             </td><td>4.58            </td><td>NA              </td><td>NA              </td><td> NA             </td><td>  NA            </td><td>  NA            </td></tr>\n",
       "\t<tr><td>2000            </td><td>Darnell Alford  </td><td>OT              </td><td>Boston Col.     </td><td>76              </td><td>334             </td><td>5.56            </td><td>25              </td><td>23              </td><td> 94             </td><td>8.48            </td><td>4.98            </td></tr>\n",
       "\t<tr><td>2000            </td><td>Kyle Allamon    </td><td>TE              </td><td>Texas Tech      </td><td>74              </td><td>253             </td><td>4.97            </td><td>29              </td><td>NA              </td><td>104             </td><td>7.29            </td><td>4.49            </td></tr>\n",
       "\t<tr><td>2000            </td><td>Rashard Anderson</td><td>CB              </td><td>Jackson State   </td><td>74              </td><td>206             </td><td>4.55            </td><td>34              </td><td>NA              </td><td>123             </td><td>7.18            </td><td>4.15            </td></tr>\n",
       "\t<tr><td>2000            </td><td>Jake Arians     </td><td>K               </td><td>Ala-Birmingham  </td><td>70              </td><td>202             </td><td>  NA            </td><td>NA              </td><td>NA              </td><td> NA             </td><td>  NA            </td><td>  NA            </td></tr>\n",
       "</tbody>\n",
       "</table>\n"
      ],
      "text/latex": [
       "\\begin{tabular}{r|llllllllllll}\n",
       " Season & Player & Pos & School & Ht & Wt & Forty & Vertical & Bench & Broad & Three\\_Cone & Shuttle\\\\\n",
       "\\hline\n",
       "\t 2000             & John Abraham     & OLB              & South Carolina   & 76               & 252              & 4.55             & NA               & NA               &  NA              &   NA             &   NA            \\\\\n",
       "\t 2000             & Shaun Alexander  & RB               & Alabama          & 72               & 218              & 4.58             & NA               & NA               &  NA              &   NA             &   NA            \\\\\n",
       "\t 2000             & Darnell Alford   & OT               & Boston Col.      & 76               & 334              & 5.56             & 25               & 23               &  94              & 8.48             & 4.98            \\\\\n",
       "\t 2000             & Kyle Allamon     & TE               & Texas Tech       & 74               & 253              & 4.97             & 29               & NA               & 104              & 7.29             & 4.49            \\\\\n",
       "\t 2000             & Rashard Anderson & CB               & Jackson State    & 74               & 206              & 4.55             & 34               & NA               & 123              & 7.18             & 4.15            \\\\\n",
       "\t 2000             & Jake Arians      & K                & Ala-Birmingham   & 70               & 202              &   NA             & NA               & NA               &  NA              &   NA             &   NA            \\\\\n",
       "\\end{tabular}\n"
      ],
      "text/markdown": [
       "\n",
       "| Season | Player | Pos | School | Ht | Wt | Forty | Vertical | Bench | Broad | Three_Cone | Shuttle |\n",
       "|---|---|---|---|---|---|---|---|---|---|---|---|\n",
       "| 2000             | John Abraham     | OLB              | South Carolina   | 76               | 252              | 4.55             | NA               | NA               |  NA              |   NA             |   NA             |\n",
       "| 2000             | Shaun Alexander  | RB               | Alabama          | 72               | 218              | 4.58             | NA               | NA               |  NA              |   NA             |   NA             |\n",
       "| 2000             | Darnell Alford   | OT               | Boston Col.      | 76               | 334              | 5.56             | 25               | 23               |  94              | 8.48             | 4.98             |\n",
       "| 2000             | Kyle Allamon     | TE               | Texas Tech       | 74               | 253              | 4.97             | 29               | NA               | 104              | 7.29             | 4.49             |\n",
       "| 2000             | Rashard Anderson | CB               | Jackson State    | 74               | 206              | 4.55             | 34               | NA               | 123              | 7.18             | 4.15             |\n",
       "| 2000             | Jake Arians      | K                | Ala-Birmingham   | 70               | 202              |   NA             | NA               | NA               |  NA              |   NA             |   NA             |\n",
       "\n"
      ],
      "text/plain": [
       "  Season Player           Pos School         Ht Wt  Forty Vertical Bench Broad\n",
       "1 2000   John Abraham     OLB South Carolina 76 252 4.55  NA       NA     NA  \n",
       "2 2000   Shaun Alexander  RB  Alabama        72 218 4.58  NA       NA     NA  \n",
       "3 2000   Darnell Alford   OT  Boston Col.    76 334 5.56  25       23     94  \n",
       "4 2000   Kyle Allamon     TE  Texas Tech     74 253 4.97  29       NA    104  \n",
       "5 2000   Rashard Anderson CB  Jackson State  74 206 4.55  34       NA    123  \n",
       "6 2000   Jake Arians      K   Ala-Birmingham 70 202   NA  NA       NA     NA  \n",
       "  Three_Cone Shuttle\n",
       "1   NA         NA   \n",
       "2   NA         NA   \n",
       "3 8.48       4.98   \n",
       "4 7.29       4.49   \n",
       "5 7.18       4.15   \n",
       "6   NA         NA   "
      ]
     },
     "metadata": {},
     "output_type": "display_data"
    },
    {
     "data": {
      "text/html": [
       "<table>\n",
       "<thead><tr><th></th><th scope=col>Season</th><th scope=col>Player</th><th scope=col>Pos</th><th scope=col>School</th><th scope=col>Ht</th><th scope=col>Wt</th><th scope=col>Forty</th><th scope=col>Vertical</th><th scope=col>Bench</th><th scope=col>Broad</th><th scope=col>Three_Cone</th><th scope=col>Shuttle</th></tr></thead>\n",
       "<tbody>\n",
       "\t<tr><th scope=row>7994</th><td>2023           </td><td>Rejzohn Wright </td><td>CB             </td><td>Oregon St.     </td><td>74             </td><td>193            </td><td>  NA           </td><td>  NA           </td><td>NA             </td><td> NA            </td><td>  NA           </td><td>  NA           </td></tr>\n",
       "\t<tr><th scope=row>7995</th><td>2023           </td><td>Luke Wypler    </td><td>C              </td><td>Ohio St.       </td><td>75             </td><td>303            </td><td>5.14           </td><td>30.5           </td><td>NA             </td><td>106            </td><td>7.64           </td><td>4.53           </td></tr>\n",
       "\t<tr><th scope=row>7996</th><td>2023           </td><td>Bryce Young    </td><td>QB             </td><td>Alabama        </td><td>70             </td><td>204            </td><td>  NA           </td><td>  NA           </td><td>NA             </td><td> NA            </td><td>  NA           </td><td>  NA           </td></tr>\n",
       "\t<tr><th scope=row>7997</th><td>2023           </td><td>Byron Young    </td><td>EDGE           </td><td>Tennessee      </td><td>74             </td><td>250            </td><td>4.43           </td><td>38.0           </td><td>22             </td><td>132            </td><td>7.19           </td><td>  NA           </td></tr>\n",
       "\t<tr><th scope=row>7998</th><td>2023           </td><td>Byron Young    </td><td>DT             </td><td>Alabama        </td><td>75             </td><td>294            </td><td>  NA           </td><td>26.0           </td><td>24             </td><td>108            </td><td>7.68           </td><td>  NA           </td></tr>\n",
       "\t<tr><th scope=row>7999</th><td>2023           </td><td>Cameron Young  </td><td>DT             </td><td>Mississippi St.</td><td>75             </td><td>304            </td><td>5.10           </td><td>  NA           </td><td>NA             </td><td> NA            </td><td>  NA           </td><td>  NA           </td></tr>\n",
       "</tbody>\n",
       "</table>\n"
      ],
      "text/latex": [
       "\\begin{tabular}{r|llllllllllll}\n",
       "  & Season & Player & Pos & School & Ht & Wt & Forty & Vertical & Bench & Broad & Three\\_Cone & Shuttle\\\\\n",
       "\\hline\n",
       "\t7994 & 2023            & Rejzohn Wright  & CB              & Oregon St.      & 74              & 193             &   NA            &   NA            & NA              &  NA             &   NA            &   NA           \\\\\n",
       "\t7995 & 2023            & Luke Wypler     & C               & Ohio St.        & 75              & 303             & 5.14            & 30.5            & NA              & 106             & 7.64            & 4.53           \\\\\n",
       "\t7996 & 2023            & Bryce Young     & QB              & Alabama         & 70              & 204             &   NA            &   NA            & NA              &  NA             &   NA            &   NA           \\\\\n",
       "\t7997 & 2023            & Byron Young     & EDGE            & Tennessee       & 74              & 250             & 4.43            & 38.0            & 22              & 132             & 7.19            &   NA           \\\\\n",
       "\t7998 & 2023            & Byron Young     & DT              & Alabama         & 75              & 294             &   NA            & 26.0            & 24              & 108             & 7.68            &   NA           \\\\\n",
       "\t7999 & 2023            & Cameron Young   & DT              & Mississippi St. & 75              & 304             & 5.10            &   NA            & NA              &  NA             &   NA            &   NA           \\\\\n",
       "\\end{tabular}\n"
      ],
      "text/markdown": [
       "\n",
       "| <!--/--> | Season | Player | Pos | School | Ht | Wt | Forty | Vertical | Bench | Broad | Three_Cone | Shuttle |\n",
       "|---|---|---|---|---|---|---|---|---|---|---|---|---|\n",
       "| 7994 | 2023            | Rejzohn Wright  | CB              | Oregon St.      | 74              | 193             |   NA            |   NA            | NA              |  NA             |   NA            |   NA            |\n",
       "| 7995 | 2023            | Luke Wypler     | C               | Ohio St.        | 75              | 303             | 5.14            | 30.5            | NA              | 106             | 7.64            | 4.53            |\n",
       "| 7996 | 2023            | Bryce Young     | QB              | Alabama         | 70              | 204             |   NA            |   NA            | NA              |  NA             |   NA            |   NA            |\n",
       "| 7997 | 2023            | Byron Young     | EDGE            | Tennessee       | 74              | 250             | 4.43            | 38.0            | 22              | 132             | 7.19            |   NA            |\n",
       "| 7998 | 2023            | Byron Young     | DT              | Alabama         | 75              | 294             |   NA            | 26.0            | 24              | 108             | 7.68            |   NA            |\n",
       "| 7999 | 2023            | Cameron Young   | DT              | Mississippi St. | 75              | 304             | 5.10            |   NA            | NA              |  NA             |   NA            |   NA            |\n",
       "\n"
      ],
      "text/plain": [
       "     Season Player         Pos  School          Ht Wt  Forty Vertical Bench\n",
       "7994 2023   Rejzohn Wright CB   Oregon St.      74 193   NA    NA     NA   \n",
       "7995 2023   Luke Wypler    C    Ohio St.        75 303 5.14  30.5     NA   \n",
       "7996 2023   Bryce Young    QB   Alabama         70 204   NA    NA     NA   \n",
       "7997 2023   Byron Young    EDGE Tennessee       74 250 4.43  38.0     22   \n",
       "7998 2023   Byron Young    DT   Alabama         75 294   NA  26.0     24   \n",
       "7999 2023   Cameron Young  DT   Mississippi St. 75 304 5.10    NA     NA   \n",
       "     Broad Three_Cone Shuttle\n",
       "7994  NA     NA         NA   \n",
       "7995 106   7.64       4.53   \n",
       "7996  NA     NA         NA   \n",
       "7997 132   7.19         NA   \n",
       "7998 108   7.68         NA   \n",
       "7999  NA     NA         NA   "
      ]
     },
     "metadata": {},
     "output_type": "display_data"
    }
   ],
   "source": [
    "df <- read.csv(\"nfl_combine_data.csv\")\n",
    "head(df)\n",
    "tail(df)"
   ]
  },
  {
   "cell_type": "markdown",
   "id": "21c67b50",
   "metadata": {},
   "source": [
    "Here, you have the year in which the player performed in the combine, the player's name and position, their college, height (in inches), weight (in pounds), how fast they ran the forty-yard dash (in seconds), how high they jumped the vertical jump (in inches), how many times they bench pressed 225 pounds, how far they jumped in the broad jump (in inches), how well they ran the three-cone drill (in seconds) and the short shuttle (in seconds). Let's get a look at the data:"
   ]
  },
  {
   "cell_type": "code",
   "execution_count": 53,
   "id": "76fdda44",
   "metadata": {},
   "outputs": [
    {
     "data": {
      "text/plain": [
       "     Season                  Player          Pos              School    \n",
       " Min.   :2000   Chris Brown     :   6   WR     :1113   Alabama   : 191  \n",
       " 1st Qu.:2006   Brandon Williams:   4   CB     : 798   LSU       : 188  \n",
       " Median :2012   Brian Allen     :   4   RB     : 699   Florida   : 177  \n",
       " Mean   :2012   Chris Jones     :   4   S      : 563   Georgia   : 175  \n",
       " 3rd Qu.:2018   Josh Johnson    :   4   OT     : 548   Ohio State: 163  \n",
       " Max.   :2023   Mike Williams   :   4   DE     : 528   USC       : 160  \n",
       "                (Other)         :7973   (Other):3750   (Other)   :6945  \n",
       "       Ht             Wt            Forty          Vertical         Bench      \n",
       " Min.   :64.0   Min.   :144.0   Min.   :4.220   Min.   :17.50   Min.   : 2.00  \n",
       " 1st Qu.:72.0   1st Qu.:205.0   1st Qu.:4.530   1st Qu.:30.00   1st Qu.:16.00  \n",
       " Median :74.0   Median :232.0   Median :4.690   Median :33.00   Median :21.00  \n",
       " Mean   :73.8   Mean   :242.6   Mean   :4.774   Mean   :32.93   Mean   :20.74  \n",
       " 3rd Qu.:76.0   3rd Qu.:279.5   3rd Qu.:4.970   3rd Qu.:36.00   3rd Qu.:25.00  \n",
       " Max.   :82.0   Max.   :384.0   Max.   :6.050   Max.   :46.50   Max.   :49.00  \n",
       " NA's   :29     NA's   :24      NA's   :583     NA's   :1837    NA's   :2802   \n",
       "     Broad         Three_Cone       Shuttle     \n",
       " Min.   : 74.0   Min.   :6.280   Min.   :3.730  \n",
       " 1st Qu.:109.0   1st Qu.:6.980   1st Qu.:4.200  \n",
       " Median :116.0   Median :7.190   Median :4.360  \n",
       " Mean   :114.8   Mean   :7.285   Mean   :4.401  \n",
       " 3rd Qu.:121.0   3rd Qu.:7.530   3rd Qu.:4.560  \n",
       " Max.   :147.0   Max.   :9.120   Max.   :5.560  \n",
       " NA's   :1913    NA's   :3126    NA's   :3006   "
      ]
     },
     "metadata": {},
     "output_type": "display_data"
    }
   ],
   "source": [
    "summary(df)"
   ]
  },
  {
   "cell_type": "markdown",
   "id": "5dad29ff",
   "metadata": {},
   "source": [
    "The thing that's interesting is that there are a lot of NA's. More NA's for things like the three-cone drill and the shuttle than things like the 40-yard dash or a player's height and weight measurements. If we are going to do actual analysis we have to resolve these NA's. We do so by first filtering out players without a height and weight, and using k-nearest neighbors to \"fill in\" the rest of the spots based on the rest of the player's data."
   ]
  },
  {
   "cell_type": "code",
   "execution_count": 74,
   "id": "5312e221",
   "metadata": {},
   "outputs": [
    {
     "name": "stderr",
     "output_type": "stream",
     "text": [
      "Warning message in knnImputation(df %>% select(Ht:Shuttle) %>% mutate(seq = 1:nrow(df)) %>% :\n",
      "\"No case has missing values. Stopping as there is nothing to do.\""
     ]
    },
    {
     "data": {
      "text/plain": [
       "     Season                  Player          Pos              School    \n",
       " Min.   :2000   Chris Brown     :   6   WR     :1108   LSU       : 188  \n",
       " 1st Qu.:2006   Brandon Williams:   4   CB     : 798   Alabama   : 187  \n",
       " Median :2012   Brian Allen     :   4   RB     : 697   Florida   : 177  \n",
       " Mean   :2012   Chris Jones     :   4   S      : 559   Georgia   : 175  \n",
       " 3rd Qu.:2018   Josh Johnson    :   4   OT     : 548   Ohio State: 163  \n",
       " Max.   :2023   Mike Williams   :   4   DE     : 528   USC       : 159  \n",
       "                (Other)         :7944   (Other):3732   (Other)   :6921  \n",
       "       Ht             Wt            Forty          Vertical         Bench     \n",
       " Min.   :64.0   Min.   :144.0   Min.   :4.220   Min.   :17.50   Min.   : 2.0  \n",
       " 1st Qu.:72.0   1st Qu.:205.0   1st Qu.:4.540   1st Qu.:30.50   1st Qu.:16.0  \n",
       " Median :74.0   Median :232.0   Median :4.680   Median :33.50   Median :20.0  \n",
       " Mean   :73.8   Mean   :242.5   Mean   :4.771   Mean   :32.95   Mean   :20.1  \n",
       " 3rd Qu.:76.0   3rd Qu.:279.0   3rd Qu.:4.970   3rd Qu.:35.50   3rd Qu.:24.0  \n",
       " Max.   :82.0   Max.   :384.0   Max.   :6.050   Max.   :46.50   Max.   :49.0  \n",
       "                                                                              \n",
       "     Broad         Three_Cone       Shuttle     \n",
       " Min.   : 74.0   Min.   :6.280   Min.   :3.730  \n",
       " 1st Qu.:109.0   1st Qu.:6.980   1st Qu.:4.210  \n",
       " Median :116.0   Median :7.145   Median :4.330  \n",
       " Mean   :114.7   Mean   :7.255   Mean   :4.383  \n",
       " 3rd Qu.:121.0   3rd Qu.:7.470   3rd Qu.:4.520  \n",
       " Max.   :147.0   Max.   :9.120   Max.   :5.560  \n",
       "                                                "
      ]
     },
     "metadata": {},
     "output_type": "display_data"
    }
   ],
   "source": [
    "library(\"DMwR2\")\n",
    "df <- df %>% filter(!is.na(Ht), !is.na(Wt))\n",
    "df_knn <- knnImputation(df %>% select(Ht:Shuttle) %>%\n",
    "                          mutate(seq = 1:nrow(df)) %>% as.data.frame(),\n",
    "                        k = 10, scale = TRUE, meth = \"median\")\n",
    "df <- cbind(df %>% select(Season:School), df_knn) %>% select(-seq)\n",
    "summary(df)\n"
   ]
  },
  {
   "cell_type": "markdown",
   "id": "2bf4dc6a",
   "metadata": {},
   "source": [
    "Ok, so we no longer have missing values. Great. Now, for the reason we're doing this thing. Inspect the relationship between some of these variables."
   ]
  },
  {
   "cell_type": "code",
   "execution_count": 55,
   "id": "acacd9c7",
   "metadata": {},
   "outputs": [
    {
     "name": "stderr",
     "output_type": "stream",
     "text": [
      "`geom_smooth()` using method = 'gam' and formula 'y ~ s(x, bs = \"cs\")'\n"
     ]
    },
    {
     "data": {
      "image/png": "[encoded data removed]",
      "text/plain": [
       "plot without title"
      ]
     },
     "metadata": {},
     "output_type": "display_data"
    }
   ],
   "source": [
    "ggplot(df, aes(Forty, Vertical)) + geom_point() + geom_smooth() + theme_minimal() + labs(x = \"Forty-Yard Dash\", y = \"Vertical Jump\")"
   ]
  },
  {
   "cell_type": "markdown",
   "id": "c8a93028",
   "metadata": {},
   "source": [
    "Thus, forty-yard dash and vertical jump are not two, independent pieces of information. Let's look at one more, the three-cone and short shuttle:"
   ]
  },
  {
   "cell_type": "code",
   "execution_count": 56,
   "id": "dc03900a",
   "metadata": {},
   "outputs": [
    {
     "name": "stderr",
     "output_type": "stream",
     "text": [
      "`geom_smooth()` using method = 'gam' and formula 'y ~ s(x, bs = \"cs\")'\n"
     ]
    },
    {
     "data": {
      "image/png": "[encoded data removed]",
      "text/plain": [
       "plot without title"
      ]
     },
     "metadata": {},
     "output_type": "display_data"
    }
   ],
   "source": [
    "ggplot(df, aes(Three_Cone, Shuttle)) + geom_point() + geom_smooth() + theme_minimal() + labs(x = \"Three-Cone Drill\", y = \"Short Shuttle\")"
   ]
  },
  {
   "cell_type": "markdown",
   "id": "c8b83ce0",
   "metadata": {},
   "source": [
    "Thus, instead of having n actual pieces of information, we have something like m pieces of information, and m < n. To access this information, we use something like principle component analysis. \n",
    "\n",
    "Principle component analysis is a process that linearly transforms data into a new coordinate system where (most of) the variation in the data can be described with fewer dimensions than the initial data. For example, for a system with two variables, the two principle components are straight lines in the plane.\n",
    "\n",
    "In R, we can perform this analysis the following way:"
   ]
  },
  {
   "cell_type": "code",
   "execution_count": 75,
   "id": "4b00a29a",
   "metadata": {},
   "outputs": [
    {
     "data": {
      "text/html": [
       "<table>\n",
       "<thead><tr><th></th><th scope=col>PC1</th><th scope=col>PC2</th><th scope=col>PC3</th><th scope=col>PC4</th><th scope=col>PC5</th><th scope=col>PC6</th><th scope=col>PC7</th><th scope=col>PC8</th></tr></thead>\n",
       "<tbody>\n",
       "\t<tr><th scope=row>Ht</th><td>-0.2807717  </td><td> 0.47755765 </td><td> 0.738522088</td><td>-0.215019140</td><td> 0.05950544 </td><td>-0.13052799 </td><td>-0.18932662 </td><td> 0.21221413 </td></tr>\n",
       "\t<tr><th scope=row>Wt</th><td>-0.3911712  </td><td> 0.27280260 </td><td> 0.007027534</td><td> 0.044644859</td><td>-0.13829507 </td><td> 0.17326763 </td><td> 0.14372938 </td><td>-0.83708779 </td></tr>\n",
       "\t<tr><th scope=row>Forty</th><td>-0.3942123  </td><td>-0.09767331 </td><td> 0.044832071</td><td>-0.002736506</td><td>-0.46521040 </td><td> 0.33704216 </td><td> 0.58580342 </td><td> 0.39981924 </td></tr>\n",
       "\t<tr><th scope=row>Vertical</th><td> 0.3460512  </td><td> 0.41859928 </td><td>-0.004032895</td><td> 0.514131510</td><td>-0.56142458 </td><td>-0.35059707 </td><td> 0.04120853 </td><td> 0.02935498 </td></tr>\n",
       "\t<tr><th scope=row>Bench</th><td>-0.2676030  </td><td> 0.60573750 </td><td>-0.652755399</td><td>-0.176854028</td><td> 0.17823905 </td><td>-0.06007383 </td><td>-0.03147522 </td><td> 0.26025957 </td></tr>\n",
       "\t<tr><th scope=row>Broad</th><td> 0.3669482  </td><td> 0.33646453 </td><td> 0.141749874</td><td> 0.339495067</td><td> 0.43196885 </td><td> 0.60269141 </td><td> 0.25299868 </td><td> 0.05429872 </td></tr>\n",
       "\t<tr><th scope=row>Three_Cone</th><td>-0.3815484  </td><td>-0.11313933 </td><td>-0.059014320</td><td> 0.519439407</td><td>-0.09932919 </td><td> 0.34604091 </td><td>-0.64612096 </td><td> 0.14573077 </td></tr>\n",
       "\t<tr><th scope=row>Shuttle</th><td>-0.3757075  </td><td>-0.14080195 </td><td> 0.053331347</td><td> 0.520656665</td><td> 0.46635048 </td><td>-0.47941103 </td><td> 0.34082573 </td><td> 0.04013979 </td></tr>\n",
       "</tbody>\n",
       "</table>\n"
      ],
      "text/latex": [
       "\\begin{tabular}{r|llllllll}\n",
       "  & PC1 & PC2 & PC3 & PC4 & PC5 & PC6 & PC7 & PC8\\\\\n",
       "\\hline\n",
       "\tHt & -0.2807717   &  0.47755765  &  0.738522088 & -0.215019140 &  0.05950544  & -0.13052799  & -0.18932662  &  0.21221413 \\\\\n",
       "\tWt & -0.3911712   &  0.27280260  &  0.007027534 &  0.044644859 & -0.13829507  &  0.17326763  &  0.14372938  & -0.83708779 \\\\\n",
       "\tForty & -0.3942123   & -0.09767331  &  0.044832071 & -0.002736506 & -0.46521040  &  0.33704216  &  0.58580342  &  0.39981924 \\\\\n",
       "\tVertical &  0.3460512   &  0.41859928  & -0.004032895 &  0.514131510 & -0.56142458  & -0.35059707  &  0.04120853  &  0.02935498 \\\\\n",
       "\tBench & -0.2676030   &  0.60573750  & -0.652755399 & -0.176854028 &  0.17823905  & -0.06007383  & -0.03147522  &  0.26025957 \\\\\n",
       "\tBroad &  0.3669482   &  0.33646453  &  0.141749874 &  0.339495067 &  0.43196885  &  0.60269141  &  0.25299868  &  0.05429872 \\\\\n",
       "\tThree\\_Cone & -0.3815484   & -0.11313933  & -0.059014320 &  0.519439407 & -0.09932919  &  0.34604091  & -0.64612096  &  0.14573077 \\\\\n",
       "\tShuttle & -0.3757075   & -0.14080195  &  0.053331347 &  0.520656665 &  0.46635048  & -0.47941103  &  0.34082573  &  0.04013979 \\\\\n",
       "\\end{tabular}\n"
      ],
      "text/markdown": [
       "\n",
       "| <!--/--> | PC1 | PC2 | PC3 | PC4 | PC5 | PC6 | PC7 | PC8 |\n",
       "|---|---|---|---|---|---|---|---|---|\n",
       "| Ht | -0.2807717   |  0.47755765  |  0.738522088 | -0.215019140 |  0.05950544  | -0.13052799  | -0.18932662  |  0.21221413  |\n",
       "| Wt | -0.3911712   |  0.27280260  |  0.007027534 |  0.044644859 | -0.13829507  |  0.17326763  |  0.14372938  | -0.83708779  |\n",
       "| Forty | -0.3942123   | -0.09767331  |  0.044832071 | -0.002736506 | -0.46521040  |  0.33704216  |  0.58580342  |  0.39981924  |\n",
       "| Vertical |  0.3460512   |  0.41859928  | -0.004032895 |  0.514131510 | -0.56142458  | -0.35059707  |  0.04120853  |  0.02935498  |\n",
       "| Bench | -0.2676030   |  0.60573750  | -0.652755399 | -0.176854028 |  0.17823905  | -0.06007383  | -0.03147522  |  0.26025957  |\n",
       "| Broad |  0.3669482   |  0.33646453  |  0.141749874 |  0.339495067 |  0.43196885  |  0.60269141  |  0.25299868  |  0.05429872  |\n",
       "| Three_Cone | -0.3815484   | -0.11313933  | -0.059014320 |  0.519439407 | -0.09932919  |  0.34604091  | -0.64612096  |  0.14573077  |\n",
       "| Shuttle | -0.3757075   | -0.14080195  |  0.053331347 |  0.520656665 |  0.46635048  | -0.47941103  |  0.34082573  |  0.04013979  |\n",
       "\n"
      ],
      "text/plain": [
       "           PC1        PC2         PC3          PC4          PC5        \n",
       "Ht         -0.2807717  0.47755765  0.738522088 -0.215019140  0.05950544\n",
       "Wt         -0.3911712  0.27280260  0.007027534  0.044644859 -0.13829507\n",
       "Forty      -0.3942123 -0.09767331  0.044832071 -0.002736506 -0.46521040\n",
       "Vertical    0.3460512  0.41859928 -0.004032895  0.514131510 -0.56142458\n",
       "Bench      -0.2676030  0.60573750 -0.652755399 -0.176854028  0.17823905\n",
       "Broad       0.3669482  0.33646453  0.141749874  0.339495067  0.43196885\n",
       "Three_Cone -0.3815484 -0.11313933 -0.059014320  0.519439407 -0.09932919\n",
       "Shuttle    -0.3757075 -0.14080195  0.053331347  0.520656665  0.46635048\n",
       "           PC6         PC7         PC8        \n",
       "Ht         -0.13052799 -0.18932662  0.21221413\n",
       "Wt          0.17326763  0.14372938 -0.83708779\n",
       "Forty       0.33704216  0.58580342  0.39981924\n",
       "Vertical   -0.35059707  0.04120853  0.02935498\n",
       "Bench      -0.06007383 -0.03147522  0.26025957\n",
       "Broad       0.60269141  0.25299868  0.05429872\n",
       "Three_Cone  0.34604091 -0.64612096  0.14573077\n",
       "Shuttle    -0.47941103  0.34082573  0.04013979"
      ]
     },
     "metadata": {},
     "output_type": "display_data"
    }
   ],
   "source": [
    "scaled_df <- scale(df %>% select(Ht:Shuttle))\n",
    "pca_fit <- prcomp(scaled_df)\n",
    "\n",
    "df <- cbind(df, pca_fit$x)\n",
    "\n",
    "pca_fit$rotation"
   ]
  },
  {
   "cell_type": "markdown",
   "id": "51b1023c",
   "metadata": {},
   "source": [
    "Notice that the first principle component (PC1) has negative weights for height, weight, forty, bench, three-cone and shuttle and positive weights for vertical and broad, the latter two you'd like to be bigger! We can see what this means by looking at some of the players:"
   ]
  },
  {
   "cell_type": "code",
   "execution_count": 76,
   "id": "f2e8af23",
   "metadata": {},
   "outputs": [
    {
     "data": {
      "text/html": [
       "<table>\n",
       "<thead><tr><th scope=col>Season</th><th scope=col>Player</th><th scope=col>Pos</th><th scope=col>School</th><th scope=col>Ht</th><th scope=col>Wt</th><th scope=col>Forty</th><th scope=col>Vertical</th><th scope=col>Bench</th><th scope=col>Broad</th><th scope=col>Three_Cone</th><th scope=col>Shuttle</th><th scope=col>PC1</th><th scope=col>PC2</th><th scope=col>PC3</th><th scope=col>PC4</th><th scope=col>PC5</th><th scope=col>PC6</th><th scope=col>PC7</th><th scope=col>PC8</th></tr></thead>\n",
       "<tbody>\n",
       "\t<tr><td>2000            </td><td>John Abraham    </td><td>OLB             </td><td>South Carolina  </td><td>76              </td><td>252             </td><td>4.55            </td><td>35.00           </td><td>21.5            </td><td>118.0           </td><td>7.045           </td><td>4.260           </td><td> 0.6205005      </td><td> 1.1461092      </td><td> 0.47874726     </td><td>-0.3670742      </td><td> 0.09375965     </td><td>-0.24245651     </td><td>-0.26564063     </td><td>-0.29296007     </td></tr>\n",
       "\t<tr><td>2000            </td><td>Shaun Alexander </td><td>RB              </td><td>Alabama         </td><td>72              </td><td>218             </td><td>4.58            </td><td>36.75           </td><td>16.0            </td><td>116.0           </td><td>7.010           </td><td>4.260           </td><td> 1.6603856      </td><td>-0.2501383      </td><td>-0.04258179     </td><td> 0.1958969      </td><td>-0.44377808     </td><td>-0.40526279     </td><td> 0.02177608     </td><td>-0.20682024     </td></tr>\n",
       "\t<tr><td>2000            </td><td>Darnell Alford  </td><td>OT              </td><td>Boston Col.     </td><td>76              </td><td>334             </td><td>5.56            </td><td>25.00           </td><td>23.0            </td><td> 94.0           </td><td>8.480           </td><td>4.980           </td><td>-5.8745816      </td><td>-1.3256758      </td><td> 0.03580462     </td><td> 0.9375417      </td><td>-0.41931300     </td><td> 0.33837194     </td><td>-0.26061853     </td><td> 0.04500497     </td></tr>\n",
       "\t<tr><td>2000            </td><td>Kyle Allamon    </td><td>TE              </td><td>Texas Tech      </td><td>74              </td><td>253             </td><td>4.97            </td><td>29.00           </td><td>21.0            </td><td>104.0           </td><td>7.290           </td><td>4.490           </td><td>-1.3972937      </td><td>-0.7615766      </td><td>-0.16395801     </td><td>-0.6773637      </td><td>-0.07334115     </td><td>-0.30896007     </td><td> 0.14646296     </td><td> 0.06452347     </td></tr>\n",
       "\t<tr><td>2000            </td><td>Rashard Anderson</td><td>CB              </td><td>Jackson State   </td><td>74              </td><td>206             </td><td>4.55            </td><td>34.00           </td><td>17.5            </td><td>123.0           </td><td>7.180           </td><td>4.150           </td><td> 1.5684052      </td><td> 0.1931903      </td><td> 0.40274231     </td><td>-0.1164880      </td><td> 0.20366078     </td><td> 0.48533054     </td><td>-0.49710595     </td><td> 0.27259429     </td></tr>\n",
       "\t<tr><td>2000            </td><td>Jake Arians     </td><td>K               </td><td>Ala-Birmingham  </td><td>70              </td><td>202             </td><td>4.50            </td><td>36.00           </td><td>15.0            </td><td>117.5           </td><td>7.085           </td><td>4.135           </td><td> 2.2752026      </td><td>-0.7596441      </td><td>-0.51598427     </td><td> 0.1703147      </td><td>-0.42661177     </td><td> 0.03331882     </td><td>-0.30222145     </td><td>-0.21107515     </td></tr>\n",
       "</tbody>\n",
       "</table>\n"
      ],
      "text/latex": [
       "\\begin{tabular}{r|llllllllllllllllllll}\n",
       " Season & Player & Pos & School & Ht & Wt & Forty & Vertical & Bench & Broad & Three\\_Cone & Shuttle & PC1 & PC2 & PC3 & PC4 & PC5 & PC6 & PC7 & PC8\\\\\n",
       "\\hline\n",
       "\t 2000             & John Abraham     & OLB              & South Carolina   & 76               & 252              & 4.55             & 35.00            & 21.5             & 118.0            & 7.045            & 4.260            &  0.6205005       &  1.1461092       &  0.47874726      & -0.3670742       &  0.09375965      & -0.24245651      & -0.26564063      & -0.29296007     \\\\\n",
       "\t 2000             & Shaun Alexander  & RB               & Alabama          & 72               & 218              & 4.58             & 36.75            & 16.0             & 116.0            & 7.010            & 4.260            &  1.6603856       & -0.2501383       & -0.04258179      &  0.1958969       & -0.44377808      & -0.40526279      &  0.02177608      & -0.20682024     \\\\\n",
       "\t 2000             & Darnell Alford   & OT               & Boston Col.      & 76               & 334              & 5.56             & 25.00            & 23.0             &  94.0            & 8.480            & 4.980            & -5.8745816       & -1.3256758       &  0.03580462      &  0.9375417       & -0.41931300      &  0.33837194      & -0.26061853      &  0.04500497     \\\\\n",
       "\t 2000             & Kyle Allamon     & TE               & Texas Tech       & 74               & 253              & 4.97             & 29.00            & 21.0             & 104.0            & 7.290            & 4.490            & -1.3972937       & -0.7615766       & -0.16395801      & -0.6773637       & -0.07334115      & -0.30896007      &  0.14646296      &  0.06452347     \\\\\n",
       "\t 2000             & Rashard Anderson & CB               & Jackson State    & 74               & 206              & 4.55             & 34.00            & 17.5             & 123.0            & 7.180            & 4.150            &  1.5684052       &  0.1931903       &  0.40274231      & -0.1164880       &  0.20366078      &  0.48533054      & -0.49710595      &  0.27259429     \\\\\n",
       "\t 2000             & Jake Arians      & K                & Ala-Birmingham   & 70               & 202              & 4.50             & 36.00            & 15.0             & 117.5            & 7.085            & 4.135            &  2.2752026       & -0.7596441       & -0.51598427      &  0.1703147       & -0.42661177      &  0.03331882      & -0.30222145      & -0.21107515     \\\\\n",
       "\\end{tabular}\n"
      ],
      "text/markdown": [
       "\n",
       "| Season | Player | Pos | School | Ht | Wt | Forty | Vertical | Bench | Broad | Three_Cone | Shuttle | PC1 | PC2 | PC3 | PC4 | PC5 | PC6 | PC7 | PC8 |\n",
       "|---|---|---|---|---|---|---|---|---|---|---|---|---|---|---|---|---|---|---|---|\n",
       "| 2000             | John Abraham     | OLB              | South Carolina   | 76               | 252              | 4.55             | 35.00            | 21.5             | 118.0            | 7.045            | 4.260            |  0.6205005       |  1.1461092       |  0.47874726      | -0.3670742       |  0.09375965      | -0.24245651      | -0.26564063      | -0.29296007      |\n",
       "| 2000             | Shaun Alexander  | RB               | Alabama          | 72               | 218              | 4.58             | 36.75            | 16.0             | 116.0            | 7.010            | 4.260            |  1.6603856       | -0.2501383       | -0.04258179      |  0.1958969       | -0.44377808      | -0.40526279      |  0.02177608      | -0.20682024      |\n",
       "| 2000             | Darnell Alford   | OT               | Boston Col.      | 76               | 334              | 5.56             | 25.00            | 23.0             |  94.0            | 8.480            | 4.980            | -5.8745816       | -1.3256758       |  0.03580462      |  0.9375417       | -0.41931300      |  0.33837194      | -0.26061853      |  0.04500497      |\n",
       "| 2000             | Kyle Allamon     | TE               | Texas Tech       | 74               | 253              | 4.97             | 29.00            | 21.0             | 104.0            | 7.290            | 4.490            | -1.3972937       | -0.7615766       | -0.16395801      | -0.6773637       | -0.07334115      | -0.30896007      |  0.14646296      |  0.06452347      |\n",
       "| 2000             | Rashard Anderson | CB               | Jackson State    | 74               | 206              | 4.55             | 34.00            | 17.5             | 123.0            | 7.180            | 4.150            |  1.5684052       |  0.1931903       |  0.40274231      | -0.1164880       |  0.20366078      |  0.48533054      | -0.49710595      |  0.27259429      |\n",
       "| 2000             | Jake Arians      | K                | Ala-Birmingham   | 70               | 202              | 4.50             | 36.00            | 15.0             | 117.5            | 7.085            | 4.135            |  2.2752026       | -0.7596441       | -0.51598427      |  0.1703147       | -0.42661177      |  0.03331882      | -0.30222145      | -0.21107515      |\n",
       "\n"
      ],
      "text/plain": [
       "  Season Player           Pos School         Ht Wt  Forty Vertical Bench Broad\n",
       "1 2000   John Abraham     OLB South Carolina 76 252 4.55  35.00    21.5  118.0\n",
       "2 2000   Shaun Alexander  RB  Alabama        72 218 4.58  36.75    16.0  116.0\n",
       "3 2000   Darnell Alford   OT  Boston Col.    76 334 5.56  25.00    23.0   94.0\n",
       "4 2000   Kyle Allamon     TE  Texas Tech     74 253 4.97  29.00    21.0  104.0\n",
       "5 2000   Rashard Anderson CB  Jackson State  74 206 4.55  34.00    17.5  123.0\n",
       "6 2000   Jake Arians      K   Ala-Birmingham 70 202 4.50  36.00    15.0  117.5\n",
       "  Three_Cone Shuttle PC1        PC2        PC3         PC4        PC5        \n",
       "1 7.045      4.260    0.6205005  1.1461092  0.47874726 -0.3670742  0.09375965\n",
       "2 7.010      4.260    1.6603856 -0.2501383 -0.04258179  0.1958969 -0.44377808\n",
       "3 8.480      4.980   -5.8745816 -1.3256758  0.03580462  0.9375417 -0.41931300\n",
       "4 7.290      4.490   -1.3972937 -0.7615766 -0.16395801 -0.6773637 -0.07334115\n",
       "5 7.180      4.150    1.5684052  0.1931903  0.40274231 -0.1164880  0.20366078\n",
       "6 7.085      4.135    2.2752026 -0.7596441 -0.51598427  0.1703147 -0.42661177\n",
       "  PC6         PC7         PC8        \n",
       "1 -0.24245651 -0.26564063 -0.29296007\n",
       "2 -0.40526279  0.02177608 -0.20682024\n",
       "3  0.33837194 -0.26061853  0.04500497\n",
       "4 -0.30896007  0.14646296  0.06452347\n",
       "5  0.48533054 -0.49710595  0.27259429\n",
       "6  0.03331882 -0.30222145 -0.21107515"
      ]
     },
     "metadata": {},
     "output_type": "display_data"
    }
   ],
   "source": [
    "head(df)"
   ]
  },
  {
   "cell_type": "markdown",
   "id": "a30f074a",
   "metadata": {},
   "source": [
    "Some of the players have positive values for PC1, some have negative values for PC1. This is what you want. Looking at a plot of PC1 and PC2:"
   ]
  },
  {
   "cell_type": "code",
   "execution_count": 77,
   "id": "c82eb990",
   "metadata": {},
   "outputs": [
    {
     "data": {
      "image/png": "[encoded data removed]",
      "text/plain": [
       "plot without title"
      ]
     },
     "metadata": {},
     "output_type": "display_data"
    }
   ],
   "source": [
    "ggplot(df, aes(PC1, PC2, color = Pos)) + geom_point() + \n",
    "  labs(x = paste0(\"PC1 (\", 100*round(pca_fit$sdev[1]^2/sum(pca_fit$sdev^2), 2), \"% of Variance Explained)\"), \n",
    "       y = paste0(\"PC2 (\", 100*round(pca_fit$sdev[2]^2/sum(pca_fit$sdev^2), 2), \"% of Variance Explained)\"))\n"
   ]
  },
  {
   "cell_type": "markdown",
   "id": "6384db92",
   "metadata": {},
   "source": [
    "This is a pretty cool look at the groupings of players into different positions based on their athleticism and size traits. This screams \"clustering\". It's not necessarily clear how many clusters are necessary, but let's guess at six clusters. Here's the R course for doing this."
   ]
  },
  {
   "cell_type": "code",
   "execution_count": 78,
   "id": "6bbe1830",
   "metadata": {},
   "outputs": [
    {
     "data": {
      "text/html": [
       "<table>\n",
       "<thead><tr><th scope=col>Season</th><th scope=col>Player</th><th scope=col>Pos</th><th scope=col>School</th><th scope=col>Ht</th><th scope=col>Wt</th><th scope=col>Forty</th><th scope=col>Vertical</th><th scope=col>Bench</th><th scope=col>Broad</th><th scope=col>...</th><th scope=col>Shuttle</th><th scope=col>PC1</th><th scope=col>PC2</th><th scope=col>PC3</th><th scope=col>PC4</th><th scope=col>PC5</th><th scope=col>PC6</th><th scope=col>PC7</th><th scope=col>PC8</th><th scope=col>cluster</th></tr></thead>\n",
       "<tbody>\n",
       "\t<tr><td>2000            </td><td>John Abraham    </td><td>OLB             </td><td>South Carolina  </td><td>76              </td><td>252             </td><td>4.55            </td><td>35.00           </td><td>21.5            </td><td>118.0           </td><td>...             </td><td>4.260           </td><td> 0.6205005      </td><td> 1.1461092      </td><td> 0.47874726     </td><td>-0.3670742      </td><td> 0.09375965     </td><td>-0.24245651     </td><td>-0.26564063     </td><td>-0.29296007     </td><td>1               </td></tr>\n",
       "\t<tr><td>2000            </td><td>Shaun Alexander </td><td>RB              </td><td>Alabama         </td><td>72              </td><td>218             </td><td>4.58            </td><td>36.75           </td><td>16.0            </td><td>116.0           </td><td>...             </td><td>4.260           </td><td> 1.6603856      </td><td>-0.2501383      </td><td>-0.04258179     </td><td> 0.1958969      </td><td>-0.44377808     </td><td>-0.40526279     </td><td> 0.02177608     </td><td>-0.20682024     </td><td>3               </td></tr>\n",
       "\t<tr><td>2000            </td><td>Darnell Alford  </td><td>OT              </td><td>Boston Col.     </td><td>76              </td><td>334             </td><td>5.56            </td><td>25.00           </td><td>23.0            </td><td> 94.0           </td><td>...             </td><td>4.980           </td><td>-5.8745816      </td><td>-1.3256758      </td><td> 0.03580462     </td><td> 0.9375417      </td><td>-0.41931300     </td><td> 0.33837194     </td><td>-0.26061853     </td><td> 0.04500497     </td><td>5               </td></tr>\n",
       "\t<tr><td>2000            </td><td>Kyle Allamon    </td><td>TE              </td><td>Texas Tech      </td><td>74              </td><td>253             </td><td>4.97            </td><td>29.00           </td><td>21.0            </td><td>104.0           </td><td>...             </td><td>4.490           </td><td>-1.3972937      </td><td>-0.7615766      </td><td>-0.16395801     </td><td>-0.6773637      </td><td>-0.07334115     </td><td>-0.30896007     </td><td> 0.14646296     </td><td> 0.06452347     </td><td>4               </td></tr>\n",
       "\t<tr><td>2000            </td><td>Rashard Anderson</td><td>CB              </td><td>Jackson State   </td><td>74              </td><td>206             </td><td>4.55            </td><td>34.00           </td><td>17.5            </td><td>123.0           </td><td>...             </td><td>4.150           </td><td> 1.5684052      </td><td> 0.1931903      </td><td> 0.40274231     </td><td>-0.1164880      </td><td> 0.20366078     </td><td> 0.48533054     </td><td>-0.49710595     </td><td> 0.27259429     </td><td>6               </td></tr>\n",
       "\t<tr><td>2000            </td><td>Jake Arians     </td><td>K               </td><td>Ala-Birmingham  </td><td>70              </td><td>202             </td><td>4.50            </td><td>36.00           </td><td>15.0            </td><td>117.5           </td><td>...             </td><td>4.135           </td><td> 2.2752026      </td><td>-0.7596441      </td><td>-0.51598427     </td><td> 0.1703147      </td><td>-0.42661177     </td><td> 0.03331882     </td><td>-0.30222145     </td><td>-0.21107515     </td><td>3               </td></tr>\n",
       "</tbody>\n",
       "</table>\n"
      ],
      "text/latex": [
       "\\begin{tabular}{r|lllllllllllllllllllll}\n",
       " Season & Player & Pos & School & Ht & Wt & Forty & Vertical & Bench & Broad & ... & Shuttle & PC1 & PC2 & PC3 & PC4 & PC5 & PC6 & PC7 & PC8 & cluster\\\\\n",
       "\\hline\n",
       "\t 2000             & John Abraham     & OLB              & South Carolina   & 76               & 252              & 4.55             & 35.00            & 21.5             & 118.0            & ...              & 4.260            &  0.6205005       &  1.1461092       &  0.47874726      & -0.3670742       &  0.09375965      & -0.24245651      & -0.26564063      & -0.29296007      & 1               \\\\\n",
       "\t 2000             & Shaun Alexander  & RB               & Alabama          & 72               & 218              & 4.58             & 36.75            & 16.0             & 116.0            & ...              & 4.260            &  1.6603856       & -0.2501383       & -0.04258179      &  0.1958969       & -0.44377808      & -0.40526279      &  0.02177608      & -0.20682024      & 3               \\\\\n",
       "\t 2000             & Darnell Alford   & OT               & Boston Col.      & 76               & 334              & 5.56             & 25.00            & 23.0             &  94.0            & ...              & 4.980            & -5.8745816       & -1.3256758       &  0.03580462      &  0.9375417       & -0.41931300      &  0.33837194      & -0.26061853      &  0.04500497      & 5               \\\\\n",
       "\t 2000             & Kyle Allamon     & TE               & Texas Tech       & 74               & 253              & 4.97             & 29.00            & 21.0             & 104.0            & ...              & 4.490            & -1.3972937       & -0.7615766       & -0.16395801      & -0.6773637       & -0.07334115      & -0.30896007      &  0.14646296      &  0.06452347      & 4               \\\\\n",
       "\t 2000             & Rashard Anderson & CB               & Jackson State    & 74               & 206              & 4.55             & 34.00            & 17.5             & 123.0            & ...              & 4.150            &  1.5684052       &  0.1931903       &  0.40274231      & -0.1164880       &  0.20366078      &  0.48533054      & -0.49710595      &  0.27259429      & 6               \\\\\n",
       "\t 2000             & Jake Arians      & K                & Ala-Birmingham   & 70               & 202              & 4.50             & 36.00            & 15.0             & 117.5            & ...              & 4.135            &  2.2752026       & -0.7596441       & -0.51598427      &  0.1703147       & -0.42661177      &  0.03331882      & -0.30222145      & -0.21107515      & 3               \\\\\n",
       "\\end{tabular}\n"
      ],
      "text/markdown": [
       "\n",
       "| Season | Player | Pos | School | Ht | Wt | Forty | Vertical | Bench | Broad | ... | Shuttle | PC1 | PC2 | PC3 | PC4 | PC5 | PC6 | PC7 | PC8 | cluster |\n",
       "|---|---|---|---|---|---|---|---|---|---|---|---|---|---|---|---|---|---|---|---|---|\n",
       "| 2000             | John Abraham     | OLB              | South Carolina   | 76               | 252              | 4.55             | 35.00            | 21.5             | 118.0            | ...              | 4.260            |  0.6205005       |  1.1461092       |  0.47874726      | -0.3670742       |  0.09375965      | -0.24245651      | -0.26564063      | -0.29296007      | 1                |\n",
       "| 2000             | Shaun Alexander  | RB               | Alabama          | 72               | 218              | 4.58             | 36.75            | 16.0             | 116.0            | ...              | 4.260            |  1.6603856       | -0.2501383       | -0.04258179      |  0.1958969       | -0.44377808      | -0.40526279      |  0.02177608      | -0.20682024      | 3                |\n",
       "| 2000             | Darnell Alford   | OT               | Boston Col.      | 76               | 334              | 5.56             | 25.00            | 23.0             |  94.0            | ...              | 4.980            | -5.8745816       | -1.3256758       |  0.03580462      |  0.9375417       | -0.41931300      |  0.33837194      | -0.26061853      |  0.04500497      | 5                |\n",
       "| 2000             | Kyle Allamon     | TE               | Texas Tech       | 74               | 253              | 4.97             | 29.00            | 21.0             | 104.0            | ...              | 4.490            | -1.3972937       | -0.7615766       | -0.16395801      | -0.6773637       | -0.07334115      | -0.30896007      |  0.14646296      |  0.06452347      | 4                |\n",
       "| 2000             | Rashard Anderson | CB               | Jackson State    | 74               | 206              | 4.55             | 34.00            | 17.5             | 123.0            | ...              | 4.150            |  1.5684052       |  0.1931903       |  0.40274231      | -0.1164880       |  0.20366078      |  0.48533054      | -0.49710595      |  0.27259429      | 6                |\n",
       "| 2000             | Jake Arians      | K                | Ala-Birmingham   | 70               | 202              | 4.50             | 36.00            | 15.0             | 117.5            | ...              | 4.135            |  2.2752026       | -0.7596441       | -0.51598427      |  0.1703147       | -0.42661177      |  0.03331882      | -0.30222145      | -0.21107515      | 3                |\n",
       "\n"
      ],
      "text/plain": [
       "  Season Player           Pos School         Ht Wt  Forty Vertical Bench Broad\n",
       "1 2000   John Abraham     OLB South Carolina 76 252 4.55  35.00    21.5  118.0\n",
       "2 2000   Shaun Alexander  RB  Alabama        72 218 4.58  36.75    16.0  116.0\n",
       "3 2000   Darnell Alford   OT  Boston Col.    76 334 5.56  25.00    23.0   94.0\n",
       "4 2000   Kyle Allamon     TE  Texas Tech     74 253 4.97  29.00    21.0  104.0\n",
       "5 2000   Rashard Anderson CB  Jackson State  74 206 4.55  34.00    17.5  123.0\n",
       "6 2000   Jake Arians      K   Ala-Birmingham 70 202 4.50  36.00    15.0  117.5\n",
       "  ... Shuttle PC1        PC2        PC3         PC4        PC5        \n",
       "1 ... 4.260    0.6205005  1.1461092  0.47874726 -0.3670742  0.09375965\n",
       "2 ... 4.260    1.6603856 -0.2501383 -0.04258179  0.1958969 -0.44377808\n",
       "3 ... 4.980   -5.8745816 -1.3256758  0.03580462  0.9375417 -0.41931300\n",
       "4 ... 4.490   -1.3972937 -0.7615766 -0.16395801 -0.6773637 -0.07334115\n",
       "5 ... 4.150    1.5684052  0.1931903  0.40274231 -0.1164880  0.20366078\n",
       "6 ... 4.135    2.2752026 -0.7596441 -0.51598427  0.1703147 -0.42661177\n",
       "  PC6         PC7         PC8         cluster\n",
       "1 -0.24245651 -0.26564063 -0.29296007 1      \n",
       "2 -0.40526279  0.02177608 -0.20682024 3      \n",
       "3  0.33837194 -0.26061853  0.04500497 5      \n",
       "4 -0.30896007  0.14646296  0.06452347 4      \n",
       "5  0.48533054 -0.49710595  0.27259429 6      \n",
       "6  0.03331882 -0.30222145 -0.21107515 3      "
      ]
     },
     "metadata": {},
     "output_type": "display_data"
    }
   ],
   "source": [
    "k_means_fit <- kmeans(df %>% select(PC1:PC2), centers = 6, iter.max = 10)\n",
    "\n",
    "df$cluster <- k_means_fit$cluster\n",
    "head(df)"
   ]
  },
  {
   "cell_type": "markdown",
   "id": "ce9f8182",
   "metadata": {},
   "source": [
    "k-means clustering aims to partition n observations into k clusters in which each observation belongs to the cluster with the nearest mean, serving as a prototype of the cluster. There are other ways to cluster, which are beyond the scope of this workshop, including model-based clustering, which has been used in football analytics to model tracking data: https://danichusfu.github.io/publication/route-identification-nfl/\n",
    "\n",
    "Let's look at the positions for each cluster, as a proof of concept:"
   ]
  },
  {
   "cell_type": "code",
   "execution_count": 80,
   "id": "b9247786",
   "metadata": {},
   "outputs": [
    {
     "data": {
      "text/html": [
       "<table>\n",
       "<thead><tr><th scope=col>Pos</th><th scope=col>n</th><th scope=col>Ht</th><th scope=col>Wt</th></tr></thead>\n",
       "<tbody>\n",
       "\t<tr><td>OLB     </td><td>258     </td><td>74.12016</td><td>241.6473</td></tr>\n",
       "\t<tr><td>TE      </td><td>247     </td><td>76.47368</td><td>251.8826</td></tr>\n",
       "\t<tr><td>DE      </td><td>219     </td><td>75.78082</td><td>263.7443</td></tr>\n",
       "\t<tr><td>ILB     </td><td>127     </td><td>73.73228</td><td>242.2598</td></tr>\n",
       "\t<tr><td>WR      </td><td>116     </td><td>75.61207</td><td>221.0345</td></tr>\n",
       "</tbody>\n",
       "</table>\n"
      ],
      "text/latex": [
       "\\begin{tabular}{r|llll}\n",
       " Pos & n & Ht & Wt\\\\\n",
       "\\hline\n",
       "\t OLB      & 258      & 74.12016 & 241.6473\\\\\n",
       "\t TE       & 247      & 76.47368 & 251.8826\\\\\n",
       "\t DE       & 219      & 75.78082 & 263.7443\\\\\n",
       "\t ILB      & 127      & 73.73228 & 242.2598\\\\\n",
       "\t WR       & 116      & 75.61207 & 221.0345\\\\\n",
       "\\end{tabular}\n"
      ],
      "text/markdown": [
       "\n",
       "| Pos | n | Ht | Wt |\n",
       "|---|---|---|---|\n",
       "| OLB      | 258      | 74.12016 | 241.6473 |\n",
       "| TE       | 247      | 76.47368 | 251.8826 |\n",
       "| DE       | 219      | 75.78082 | 263.7443 |\n",
       "| ILB      | 127      | 73.73228 | 242.2598 |\n",
       "| WR       | 116      | 75.61207 | 221.0345 |\n",
       "\n"
      ],
      "text/plain": [
       "  Pos n   Ht       Wt      \n",
       "1 OLB 258 74.12016 241.6473\n",
       "2 TE  247 76.47368 251.8826\n",
       "3 DE  219 75.78082 263.7443\n",
       "4 ILB 127 73.73228 242.2598\n",
       "5 WR  116 75.61207 221.0345"
      ]
     },
     "metadata": {},
     "output_type": "display_data"
    }
   ],
   "source": [
    "df %>% filter(cluster == 1) %>% group_by(Pos) %>% summarize(n = n(), Ht = mean(Ht), Wt = mean(Wt)) %>%\n",
    "  arrange(-n) %>% head(5)"
   ]
  },
  {
   "cell_type": "code",
   "execution_count": 81,
   "id": "4b7bf627",
   "metadata": {},
   "outputs": [
    {
     "data": {
      "text/html": [
       "<table>\n",
       "<thead><tr><th scope=col>Pos</th><th scope=col>n</th><th scope=col>Ht</th><th scope=col>Wt</th></tr></thead>\n",
       "<tbody>\n",
       "\t<tr><td>DT      </td><td>340     </td><td>74.99412</td><td>304.6147</td></tr>\n",
       "\t<tr><td>OT      </td><td>237     </td><td>77.62447</td><td>310.4726</td></tr>\n",
       "\t<tr><td>OG      </td><td>150     </td><td>75.94000</td><td>308.9667</td></tr>\n",
       "\t<tr><td>DE      </td><td>143     </td><td>76.36364</td><td>279.6923</td></tr>\n",
       "\t<tr><td>C       </td><td>101     </td><td>75.35644</td><td>302.5842</td></tr>\n",
       "</tbody>\n",
       "</table>\n"
      ],
      "text/latex": [
       "\\begin{tabular}{r|llll}\n",
       " Pos & n & Ht & Wt\\\\\n",
       "\\hline\n",
       "\t DT       & 340      & 74.99412 & 304.6147\\\\\n",
       "\t OT       & 237      & 77.62447 & 310.4726\\\\\n",
       "\t OG       & 150      & 75.94000 & 308.9667\\\\\n",
       "\t DE       & 143      & 76.36364 & 279.6923\\\\\n",
       "\t C        & 101      & 75.35644 & 302.5842\\\\\n",
       "\\end{tabular}\n"
      ],
      "text/markdown": [
       "\n",
       "| Pos | n | Ht | Wt |\n",
       "|---|---|---|---|\n",
       "| DT       | 340      | 74.99412 | 304.6147 |\n",
       "| OT       | 237      | 77.62447 | 310.4726 |\n",
       "| OG       | 150      | 75.94000 | 308.9667 |\n",
       "| DE       | 143      | 76.36364 | 279.6923 |\n",
       "| C        | 101      | 75.35644 | 302.5842 |\n",
       "\n"
      ],
      "text/plain": [
       "  Pos n   Ht       Wt      \n",
       "1 DT  340 74.99412 304.6147\n",
       "2 OT  237 77.62447 310.4726\n",
       "3 OG  150 75.94000 308.9667\n",
       "4 DE  143 76.36364 279.6923\n",
       "5 C   101 75.35644 302.5842"
      ]
     },
     "metadata": {},
     "output_type": "display_data"
    }
   ],
   "source": [
    "df %>% filter(cluster == 2) %>% group_by(Pos) %>% summarize(n = n(), Ht = mean(Ht), Wt = mean(Wt)) %>%\n",
    "  arrange(-n) %>% head(5)"
   ]
  },
  {
   "cell_type": "code",
   "execution_count": 83,
   "id": "92c09e53",
   "metadata": {},
   "outputs": [
    {
     "data": {
      "text/html": [
       "<table>\n",
       "<thead><tr><th scope=col>Pos</th><th scope=col>n</th><th scope=col>Ht</th><th scope=col>Wt</th></tr></thead>\n",
       "<tbody>\n",
       "\t<tr><td>WR      </td><td>507     </td><td>71.96252</td><td>196.8166</td></tr>\n",
       "\t<tr><td>CB      </td><td>408     </td><td>70.90441</td><td>191.3529</td></tr>\n",
       "\t<tr><td>RB      </td><td>386     </td><td>69.89119</td><td>209.0596</td></tr>\n",
       "\t<tr><td>S       </td><td>258     </td><td>71.89535</td><td>204.7713</td></tr>\n",
       "\t<tr><td>K       </td><td> 74     </td><td>71.21622</td><td>189.5541</td></tr>\n",
       "</tbody>\n",
       "</table>\n"
      ],
      "text/latex": [
       "\\begin{tabular}{r|llll}\n",
       " Pos & n & Ht & Wt\\\\\n",
       "\\hline\n",
       "\t WR       & 507      & 71.96252 & 196.8166\\\\\n",
       "\t CB       & 408      & 70.90441 & 191.3529\\\\\n",
       "\t RB       & 386      & 69.89119 & 209.0596\\\\\n",
       "\t S        & 258      & 71.89535 & 204.7713\\\\\n",
       "\t K        &  74      & 71.21622 & 189.5541\\\\\n",
       "\\end{tabular}\n"
      ],
      "text/markdown": [
       "\n",
       "| Pos | n | Ht | Wt |\n",
       "|---|---|---|---|\n",
       "| WR       | 507      | 71.96252 | 196.8166 |\n",
       "| CB       | 408      | 70.90441 | 191.3529 |\n",
       "| RB       | 386      | 69.89119 | 209.0596 |\n",
       "| S        | 258      | 71.89535 | 204.7713 |\n",
       "| K        |  74      | 71.21622 | 189.5541 |\n",
       "\n"
      ],
      "text/plain": [
       "  Pos n   Ht       Wt      \n",
       "1 WR  507 71.96252 196.8166\n",
       "2 CB  408 70.90441 191.3529\n",
       "3 RB  386 69.89119 209.0596\n",
       "4 S   258 71.89535 204.7713\n",
       "5 K    74 71.21622 189.5541"
      ]
     },
     "metadata": {},
     "output_type": "display_data"
    }
   ],
   "source": [
    "df %>% filter(cluster == 3) %>% group_by(Pos) %>% summarize(n = n(), Ht = mean(Ht), Wt = mean(Wt)) %>%\n",
    "  arrange(-n) %>% head(5)"
   ]
  },
  {
   "cell_type": "code",
   "execution_count": 84,
   "id": "16c69fe7",
   "metadata": {},
   "outputs": [
    {
     "data": {
      "text/html": [
       "<table>\n",
       "<thead><tr><th scope=col>Pos</th><th scope=col>n</th><th scope=col>Ht</th><th scope=col>Wt</th></tr></thead>\n",
       "<tbody>\n",
       "\t<tr><td>QB      </td><td>244     </td><td>74.72131</td><td>222.6557</td></tr>\n",
       "\t<tr><td>TE      </td><td>169     </td><td>76.05917</td><td>254.2012</td></tr>\n",
       "\t<tr><td>DE      </td><td>164     </td><td>75.23780</td><td>265.1159</td></tr>\n",
       "\t<tr><td>ILB     </td><td>129     </td><td>73.03101</td><td>241.7132</td></tr>\n",
       "\t<tr><td>OLB     </td><td>123     </td><td>73.38211</td><td>241.2114</td></tr>\n",
       "</tbody>\n",
       "</table>\n"
      ],
      "text/latex": [
       "\\begin{tabular}{r|llll}\n",
       " Pos & n & Ht & Wt\\\\\n",
       "\\hline\n",
       "\t QB       & 244      & 74.72131 & 222.6557\\\\\n",
       "\t TE       & 169      & 76.05917 & 254.2012\\\\\n",
       "\t DE       & 164      & 75.23780 & 265.1159\\\\\n",
       "\t ILB      & 129      & 73.03101 & 241.7132\\\\\n",
       "\t OLB      & 123      & 73.38211 & 241.2114\\\\\n",
       "\\end{tabular}\n"
      ],
      "text/markdown": [
       "\n",
       "| Pos | n | Ht | Wt |\n",
       "|---|---|---|---|\n",
       "| QB       | 244      | 74.72131 | 222.6557 |\n",
       "| TE       | 169      | 76.05917 | 254.2012 |\n",
       "| DE       | 164      | 75.23780 | 265.1159 |\n",
       "| ILB      | 129      | 73.03101 | 241.7132 |\n",
       "| OLB      | 123      | 73.38211 | 241.2114 |\n",
       "\n"
      ],
      "text/plain": [
       "  Pos n   Ht       Wt      \n",
       "1 QB  244 74.72131 222.6557\n",
       "2 TE  169 76.05917 254.2012\n",
       "3 DE  164 75.23780 265.1159\n",
       "4 ILB 129 73.03101 241.7132\n",
       "5 OLB 123 73.38211 241.2114"
      ]
     },
     "metadata": {},
     "output_type": "display_data"
    }
   ],
   "source": [
    "df %>% filter(cluster == 4) %>% group_by(Pos) %>% summarize(n = n(), Ht = mean(Ht), Wt = mean(Wt)) %>%\n",
    "  arrange(-n) %>% head(5)"
   ]
  },
  {
   "cell_type": "code",
   "execution_count": 85,
   "id": "1d2d05c1",
   "metadata": {},
   "outputs": [
    {
     "data": {
      "text/html": [
       "<table>\n",
       "<thead><tr><th scope=col>Pos</th><th scope=col>n</th><th scope=col>Ht</th><th scope=col>Wt</th></tr></thead>\n",
       "<tbody>\n",
       "\t<tr><td>OT      </td><td>310     </td><td>77.58065</td><td>318.6355</td></tr>\n",
       "\t<tr><td>OG      </td><td>268     </td><td>76.06343</td><td>317.8321</td></tr>\n",
       "\t<tr><td>DT      </td><td>140     </td><td>75.03571</td><td>316.3714</td></tr>\n",
       "\t<tr><td>C       </td><td> 91     </td><td>75.24176</td><td>303.9560</td></tr>\n",
       "\t<tr><td>OL      </td><td> 70     </td><td>76.38571</td><td>315.3000</td></tr>\n",
       "</tbody>\n",
       "</table>\n"
      ],
      "text/latex": [
       "\\begin{tabular}{r|llll}\n",
       " Pos & n & Ht & Wt\\\\\n",
       "\\hline\n",
       "\t OT       & 310      & 77.58065 & 318.6355\\\\\n",
       "\t OG       & 268      & 76.06343 & 317.8321\\\\\n",
       "\t DT       & 140      & 75.03571 & 316.3714\\\\\n",
       "\t C        &  91      & 75.24176 & 303.9560\\\\\n",
       "\t OL       &  70      & 76.38571 & 315.3000\\\\\n",
       "\\end{tabular}\n"
      ],
      "text/markdown": [
       "\n",
       "| Pos | n | Ht | Wt |\n",
       "|---|---|---|---|\n",
       "| OT       | 310      | 77.58065 | 318.6355 |\n",
       "| OG       | 268      | 76.06343 | 317.8321 |\n",
       "| DT       | 140      | 75.03571 | 316.3714 |\n",
       "| C        |  91      | 75.24176 | 303.9560 |\n",
       "| OL       |  70      | 76.38571 | 315.3000 |\n",
       "\n"
      ],
      "text/plain": [
       "  Pos n   Ht       Wt      \n",
       "1 OT  310 77.58065 318.6355\n",
       "2 OG  268 76.06343 317.8321\n",
       "3 DT  140 75.03571 316.3714\n",
       "4 C    91 75.24176 303.9560\n",
       "5 OL   70 76.38571 315.3000"
      ]
     },
     "metadata": {},
     "output_type": "display_data"
    }
   ],
   "source": [
    "df %>% filter(cluster == 5) %>% group_by(Pos) %>% summarize(n = n(), Ht = mean(Ht), Wt = mean(Wt)) %>%\n",
    "  arrange(-n) %>% head(5)"
   ]
  },
  {
   "cell_type": "code",
   "execution_count": 86,
   "id": "b5fcaa16",
   "metadata": {},
   "outputs": [
    {
     "data": {
      "text/html": [
       "<table>\n",
       "<thead><tr><th scope=col>Pos</th><th scope=col>n</th><th scope=col>Ht</th><th scope=col>Wt</th></tr></thead>\n",
       "<tbody>\n",
       "\t<tr><td>WR      </td><td>451     </td><td>72.72949</td><td>200.9002</td></tr>\n",
       "\t<tr><td>CB      </td><td>383     </td><td>71.65013</td><td>194.2820</td></tr>\n",
       "\t<tr><td>S       </td><td>252     </td><td>72.38889</td><td>207.2381</td></tr>\n",
       "\t<tr><td>RB      </td><td>175     </td><td>70.68000</td><td>212.2057</td></tr>\n",
       "\t<tr><td>DB      </td><td> 34     </td><td>71.76471</td><td>198.3235</td></tr>\n",
       "</tbody>\n",
       "</table>\n"
      ],
      "text/latex": [
       "\\begin{tabular}{r|llll}\n",
       " Pos & n & Ht & Wt\\\\\n",
       "\\hline\n",
       "\t WR       & 451      & 72.72949 & 200.9002\\\\\n",
       "\t CB       & 383      & 71.65013 & 194.2820\\\\\n",
       "\t S        & 252      & 72.38889 & 207.2381\\\\\n",
       "\t RB       & 175      & 70.68000 & 212.2057\\\\\n",
       "\t DB       &  34      & 71.76471 & 198.3235\\\\\n",
       "\\end{tabular}\n"
      ],
      "text/markdown": [
       "\n",
       "| Pos | n | Ht | Wt |\n",
       "|---|---|---|---|\n",
       "| WR       | 451      | 72.72949 | 200.9002 |\n",
       "| CB       | 383      | 71.65013 | 194.2820 |\n",
       "| S        | 252      | 72.38889 | 207.2381 |\n",
       "| RB       | 175      | 70.68000 | 212.2057 |\n",
       "| DB       |  34      | 71.76471 | 198.3235 |\n",
       "\n"
      ],
      "text/plain": [
       "  Pos n   Ht       Wt      \n",
       "1 WR  451 72.72949 200.9002\n",
       "2 CB  383 71.65013 194.2820\n",
       "3 S   252 72.38889 207.2381\n",
       "4 RB  175 70.68000 212.2057\n",
       "5 DB   34 71.76471 198.3235"
      ]
     },
     "metadata": {},
     "output_type": "display_data"
    }
   ],
   "source": [
    "df %>% filter(cluster == 6) %>% group_by(Pos) %>% summarize(n = n(), Ht = mean(Ht), Wt = mean(Wt)) %>%\n",
    "  arrange(-n) %>% head(5)"
   ]
  },
  {
   "cell_type": "markdown",
   "id": "552c64a5",
   "metadata": {},
   "source": [
    "These are pretty fun. Linemen with linemen, wide receivers with defensive backs and running backs. A quarterback/tight end cluster (similar body types and athleticisms). In future work, you'll want to mess around with the number of clusters, but this is a good start."
   ]
  },
  {
   "cell_type": "markdown",
   "id": "4e6d8dd4",
   "metadata": {},
   "source": [
    "### Time for Questions/Break"
   ]
  },
  {
   "cell_type": "markdown",
   "id": "4a24a476",
   "metadata": {},
   "source": [
    "Thank you for taking the time to learn some data science with me today, using American football as an example. If you have any more questions, you can email me at eric.eager@sumersports.com."
   ]
  }
 ],
 "metadata": {
  "kernelspec": {
   "display_name": "R",
   "language": "R",
   "name": "ir"
  },
  "language_info": {
   "codemirror_mode": "r",
   "file_extension": ".r",
   "mimetype": "text/x-r-source",
   "name": "R",
   "pygments_lexer": "r",
   "version": "3.6.1"
  }
 },
 "nbformat": 4,
 "nbformat_minor": 5
}
